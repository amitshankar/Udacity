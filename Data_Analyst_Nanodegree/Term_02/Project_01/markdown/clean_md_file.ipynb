{
 "cells": [
  {
   "cell_type": "markdown",
   "metadata": {},
   "source": [
    "## Reference\n",
    "https://stackoverflow.com/questions/14325654/how-to-use-python-markdown-to-process-a-file-that-is-read-in\n",
    "https://stackoverflow.com/questions/3207219/how-do-i-list-all-files-of-a-directory\n",
    "https://stackoverflow.com/questions/14560863/python-join-with-newline\n",
    "https://stackoverflow.com/questions/743806/how-to-split-a-string-into-a-list\n",
    "https://stackabuse.com/reading-and-writing-lists-to-a-file-in-python/\n",
    "https://stackoverflow.com/questions/6996603/delete-a-file-or-folder\n",
    "https://stackoverflow.com/questions/5214578/python-print-string-to-text-file\n",
    "https://stackoverflow.com/questions/89228/calling-an-external-command-in-python"
   ]
  },
  {
   "cell_type": "code",
   "execution_count": 1,
   "metadata": {},
   "outputs": [],
   "source": [
    "import os #to run commands in command prompt in python\n",
    "import glob # to get paths to files in a folder\n",
    "import shutil #copy files"
   ]
  },
  {
   "cell_type": "code",
   "execution_count": 2,
   "metadata": {},
   "outputs": [],
   "source": [
    "def create_dir(directory):\n",
    "    if not os.path.exists(directory):\n",
    "        print('Creating Directory '+directory)\n",
    "        os.makedirs(directory)"
   ]
  },
  {
   "cell_type": "markdown",
   "metadata": {},
   "source": [
    "folder structure\n",
    "\n",
    "clean_md_file.ipynb\n",
    "project_03_01.ipynb\n",
    "data>>\n",
    "git_page>>project_03_01.md\n",
    "git_page>>images>>movie_data_eda>>"
   ]
  },
  {
   "cell_type": "code",
   "execution_count": 3,
   "metadata": {},
   "outputs": [
    {
     "name": "stdout",
     "output_type": "stream",
     "text": [
      "data_analyst_nanodegree_term_02_project_01_perceptual_phenomenon_python_004.ipynb\n",
      "data_analyst_nanodegree_term_02_project_01_perceptual_phenomenon_python_004.md\n",
      "data_analyst_nanodegree_term_02_project_01_perceptual_phenomenon_python_004_files\n",
      "data_analyst_nanodegree_term_02_project_01_perceptual_phenomenon_python_004\n"
     ]
    }
   ],
   "source": [
    "#inputs\n",
    "#enter the ipython notebook name\n",
    "#notebook_name='project_03_01.ipynb'\n",
    "#markdown_name='project_03_01.md'\n",
    "#images_folder_name=markdown_name.replace('.md','')+'_files' #remove the .md and add _files\n",
    "#subfolder_name='project_03_01' # images/'subfolder_name'/ -- this will contain all images\n",
    "\n",
    "\n",
    "notebook_name='data_analyst_nanodegree_term_02_project_01_perceptual_phenomenon_python_004.ipynb'\n",
    "markdown_name='data_analyst_nanodegree_term_02_project_01_perceptual_phenomenon_python_004.md'\n",
    "images_folder_name=markdown_name.replace('.md','')+'_files' #remove the .md and add _files\n",
    "subfolder_name='data_analyst_nanodegree_term_02_project_01_perceptual_phenomenon_python_004' # images/'subfolder_name'/ -- this will contain all images\n",
    "\n",
    "\n",
    "\n",
    "\n",
    "print(notebook_name) # name of jupyter notebook\n",
    "print(markdown_name) #md file made during jupyter to md conversion, moved to git_page folder and deleted from root\n",
    "print(images_folder_name) #default folder made when generating md file - later deleted\n",
    "print(subfolder_name) #name of the subfolder inside images subfolder"
   ]
  },
  {
   "cell_type": "code",
   "execution_count": 4,
   "metadata": {},
   "outputs": [
    {
     "name": "stdout",
     "output_type": "stream",
     "text": [
      "Creating Directory git_page/images/data_analyst_nanodegree_term_02_project_01_perceptual_phenomenon_python_004\n"
     ]
    }
   ],
   "source": [
    "#create the directory structure\n",
    "create_dir('git_page/images/'+subfolder_name) #subfolder for all project images"
   ]
  },
  {
   "cell_type": "code",
   "execution_count": 5,
   "metadata": {},
   "outputs": [
    {
     "name": "stdout",
     "output_type": "stream",
     "text": [
      "jupyter nbconvert data_analyst_nanodegree_term_02_project_01_perceptual_phenomenon_python_004.ipynb --to markdown --output data_analyst_nanodegree_term_02_project_01_perceptual_phenomenon_python_004.md\n"
     ]
    }
   ],
   "source": [
    "#!jupyter nbconvert project_03_01.ipynb --to markdown --output test.md\n",
    "## first create a string using the notebook name and markdown name\n",
    "string_01='jupyter nbconvert '+ notebook_name + ' --to markdown --output '+ markdown_name\n",
    "#string_01='jupyter nbconvert '+ notebook_name + ' --to markdown' \n",
    "\n",
    "print(string_01)"
   ]
  },
  {
   "cell_type": "code",
   "execution_count": 6,
   "metadata": {},
   "outputs": [
    {
     "data": {
      "text/plain": [
       "0"
      ]
     },
     "execution_count": 6,
     "metadata": {},
     "output_type": "execute_result"
    }
   ],
   "source": [
    "#run the string_01 in command prompt to generate the markdown files\n",
    "os.system(string_01)"
   ]
  },
  {
   "cell_type": "code",
   "execution_count": 7,
   "metadata": {},
   "outputs": [
    {
     "data": {
      "text/plain": [
       "['data_analyst_nanodegree_term_02_project_01_perceptual_phenomenon_python_004_files\\\\data_analyst_nanodegree_term_02_project_01_perceptual_phenomenon_python_004_12_0.png',\n",
       " 'data_analyst_nanodegree_term_02_project_01_perceptual_phenomenon_python_004_files\\\\data_analyst_nanodegree_term_02_project_01_perceptual_phenomenon_python_004_14_0.png']"
      ]
     },
     "execution_count": 7,
     "metadata": {},
     "output_type": "execute_result"
    }
   ],
   "source": [
    "#get a list of only image names in sub directory\n",
    "#image_links = [f for f in glob.glob(\"markdown\\*.png\")]\n",
    "\n",
    "images_path=images_folder_name+'\\*.png'\n",
    "image_links = [f for f in glob.glob(images_path)]\n",
    "\n",
    "image_links"
   ]
  },
  {
   "cell_type": "code",
   "execution_count": null,
   "metadata": {},
   "outputs": [],
   "source": []
  },
  {
   "cell_type": "code",
   "execution_count": 8,
   "metadata": {},
   "outputs": [
    {
     "data": {
      "text/plain": [
       "['data_analyst_nanodegree_term_02_project_01_perceptual_phenomenon_python_004_12_0.png',\n",
       " 'data_analyst_nanodegree_term_02_project_01_perceptual_phenomenon_python_004_14_0.png']"
      ]
     },
     "execution_count": 8,
     "metadata": {},
     "output_type": "execute_result"
    }
   ],
   "source": [
    "#from the image_links, only save the image names\n",
    "#save just the image names to a list\n",
    "image_names=[]\n",
    "for i in image_links:\n",
    "    #image_names.append(i.replace('markdown\\\\',''))\n",
    "    image_names.append(i.replace(images_folder_name+'\\\\',''))\n",
    "    \n",
    "image_names"
   ]
  },
  {
   "cell_type": "code",
   "execution_count": 9,
   "metadata": {},
   "outputs": [
    {
     "data": {
      "text/plain": [
       "['\\n',\n",
       " '### Analyzing the Stroop Effect\\n',\n",
       " \"Perform the analysis in the space below. Remember to follow [the instructions](https://docs.google.com/document/d/1-OkpZLjG_kX9J6LIQ5IltsqMzVWjh36QpnP2RYpVdPU/pub?embedded=True) and review the [project rubric](https://review.udacity.com/#!/rubrics/71/view) before submitting. Once you've completed the analysis and write-up, download this file as a PDF or HTML file, upload that PDF/HTML into the workspace here (click on the orange Jupyter icon in the upper left then Upload), then use the Submit Project button at the bottom of this page. This will create a zip file containing both this .ipynb doc and the PDF/HTML doc that will be submitted for your project.\\n\",\n",
       " '\\n',\n",
       " '\\n',\n",
       " '(1) What is the independent variable? What is the dependent variable?\\n',\n",
       " '\\n',\n",
       " '**Answer**<br>\\n',\n",
       " 'Dependent variables are the congruent and incongruent times.<br>\\n',\n",
       " 'Independent variables are word and color combination of text that is shown to the participants, also the size and type of fonts used.\\n',\n",
       " '\\n',\n",
       " '(2) What is an appropriate set of hypotheses for this task? Specify your null and alternative hypotheses, and clearly define any notation used. Justify your choices.\\n',\n",
       " '\\n',\n",
       " '**Answer**<br>\\n',\n",
       " 'Two tail test is ideal when direction is not important. In this case, the null hypothesis could be that mean congruent time is equal to mean incongruent time. The alternate hypothesis is that the mean congruent time is not equal to incongruent time.\\n',\n",
       " '\\n',\n",
       " '\\n',\n",
       " '$$H_0: \\\\mu_{congruent} - \\\\mu_{incongruent} = 0$$\\n',\n",
       " '$$H_0: \\\\mu_{congruent} - \\\\mu_{incongruent} \\\\neq 0$$\\n',\n",
       " '\\n',\n",
       " '**$\\\\mu_{congruent}$  and  $\\\\mu_{incongruent}$ are population mean.**\\n',\n",
       " '\\n',\n",
       " '** $\\\\alpha$ = 0.05  (threshold of type 1 error)**\\n',\n",
       " '\\n',\n",
       " 'Degrees of freedom = 24-1=23\\n',\n",
       " '\\n',\n",
       " 'Assumption: Since the same candidate is taking the congruent and incongruent test, I am assuming that the two are related ( the candidate is the same just the test is different).\\n',\n",
       " '\\n',\n",
       " \"(3) Report some descriptive statistics regarding this dataset. Include at least one measure of central tendency and at least one measure of variability. The name of the data file is 'stroopdata.csv'.\\n\",\n",
       " '\\n',\n",
       " '\\n',\n",
       " '```python\\n',\n",
       " '# Perform the analysis here\\n',\n",
       " '#import libraries\\n',\n",
       " 'import pandas as pd\\n',\n",
       " 'import numpy as np\\n',\n",
       " 'import matplotlib.pyplot as plt\\n',\n",
       " '\\n',\n",
       " '%matplotlib inline\\n',\n",
       " '```\\n',\n",
       " '\\n',\n",
       " '\\n',\n",
       " '```python\\n',\n",
       " '#set random seed for reproducibilty\\n',\n",
       " '#np.random.seed(42)\\n',\n",
       " '```\\n',\n",
       " '\\n',\n",
       " '\\n',\n",
       " '```python\\n',\n",
       " '#read the data \\n',\n",
       " \"df=pd.read_csv('stroopdata.csv')\\n\",\n",
       " 'print(df.head())\\n',\n",
       " \"print('\\\\n')\\n\",\n",
       " 'print(df.info())\\n',\n",
       " '```\\n',\n",
       " '\\n',\n",
       " '       Congruent  Incongruent\\n',\n",
       " '    0     12.079       19.278\\n',\n",
       " '    1     16.791       18.741\\n',\n",
       " '    2      9.564       21.214\\n',\n",
       " '    3      8.630       15.687\\n',\n",
       " '    4     14.669       22.803\\n',\n",
       " '    \\n',\n",
       " '    \\n',\n",
       " \"    <class 'pandas.core.frame.DataFrame'>\\n\",\n",
       " '    RangeIndex: 24 entries, 0 to 23\\n',\n",
       " '    Data columns (total 2 columns):\\n',\n",
       " '    Congruent      24 non-null float64\\n',\n",
       " '    Incongruent    24 non-null float64\\n',\n",
       " '    dtypes: float64(2)\\n',\n",
       " '    memory usage: 464.0 bytes\\n',\n",
       " '    None\\n',\n",
       " '    \\n',\n",
       " '\\n',\n",
       " '\\n',\n",
       " '```python\\n',\n",
       " 'df.describe()\\n',\n",
       " '```\\n',\n",
       " '\\n',\n",
       " '\\n',\n",
       " '\\n',\n",
       " '\\n',\n",
       " '<div>\\n',\n",
       " '<style>\\n',\n",
       " '    .dataframe thead tr:only-child th {\\n',\n",
       " '        text-align: right;\\n',\n",
       " '    }\\n',\n",
       " '\\n',\n",
       " '    .dataframe thead th {\\n',\n",
       " '        text-align: left;\\n',\n",
       " '    }\\n',\n",
       " '\\n',\n",
       " '    .dataframe tbody tr th {\\n',\n",
       " '        vertical-align: top;\\n',\n",
       " '    }\\n',\n",
       " '</style>\\n',\n",
       " '<table border=\"1\" class=\"dataframe\">\\n',\n",
       " '  <thead>\\n',\n",
       " '    <tr style=\"text-align: right;\">\\n',\n",
       " '      <th></th>\\n',\n",
       " '      <th>Congruent</th>\\n',\n",
       " '      <th>Incongruent</th>\\n',\n",
       " '    </tr>\\n',\n",
       " '  </thead>\\n',\n",
       " '  <tbody>\\n',\n",
       " '    <tr>\\n',\n",
       " '      <th>count</th>\\n',\n",
       " '      <td>24.000000</td>\\n',\n",
       " '      <td>24.000000</td>\\n',\n",
       " '    </tr>\\n',\n",
       " '    <tr>\\n',\n",
       " '      <th>mean</th>\\n',\n",
       " '      <td>14.051125</td>\\n',\n",
       " '      <td>22.015917</td>\\n',\n",
       " '    </tr>\\n',\n",
       " '    <tr>\\n',\n",
       " '      <th>std</th>\\n',\n",
       " '      <td>3.559358</td>\\n',\n",
       " '      <td>4.797057</td>\\n',\n",
       " '    </tr>\\n',\n",
       " '    <tr>\\n',\n",
       " '      <th>min</th>\\n',\n",
       " '      <td>8.630000</td>\\n',\n",
       " '      <td>15.687000</td>\\n',\n",
       " '    </tr>\\n',\n",
       " '    <tr>\\n',\n",
       " '      <th>25%</th>\\n',\n",
       " '      <td>11.895250</td>\\n',\n",
       " '      <td>18.716750</td>\\n',\n",
       " '    </tr>\\n',\n",
       " '    <tr>\\n',\n",
       " '      <th>50%</th>\\n',\n",
       " '      <td>14.356500</td>\\n',\n",
       " '      <td>21.017500</td>\\n',\n",
       " '    </tr>\\n',\n",
       " '    <tr>\\n',\n",
       " '      <th>75%</th>\\n',\n",
       " '      <td>16.200750</td>\\n',\n",
       " '      <td>24.051500</td>\\n',\n",
       " '    </tr>\\n',\n",
       " '    <tr>\\n',\n",
       " '      <th>max</th>\\n',\n",
       " '      <td>22.328000</td>\\n',\n",
       " '      <td>35.255000</td>\\n',\n",
       " '    </tr>\\n',\n",
       " '  </tbody>\\n',\n",
       " '</table>\\n',\n",
       " '</div>\\n',\n",
       " '\\n',\n",
       " '\\n',\n",
       " '\\n',\n",
       " '\\n',\n",
       " '```python\\n',\n",
       " \"print('Congruent mean: ' +str(df['Congruent'].mean()))\\n\",\n",
       " \"print('Incongruent mean: ' +str(df['Incongruent'].mean()))\\n\",\n",
       " \"obs_diff_mean=df['Congruent'].mean()-df['Incongruent'].mean()\\n\",\n",
       " \"print('Difference between congruent and incongruent mean '+str(obs_diff_mean))\\n\",\n",
       " '\\n',\n",
       " \"print('\\\\n')\\n\",\n",
       " \"print('Congruent median: ' +str(df.Congruent.median()))\\n\",\n",
       " \"print('Incongruent median: ' +str(df.Incongruent.median()))\\n\",\n",
       " '\\n',\n",
       " \"print('\\\\n')\\n\",\n",
       " \"print('Congruent variance: ' +str(df.Congruent.var()))\\n\",\n",
       " \"print('Incongruent variance: ' +str(df.Incongruent.var()))\\n\",\n",
       " '\\n',\n",
       " '```\\n',\n",
       " '\\n',\n",
       " '    Congruent mean: 14.051125\\n',\n",
       " '    Incongruent mean: 22.0159166667\\n',\n",
       " '    Difference between congruent and incongruent mean -7.96479166667\\n',\n",
       " '    \\n',\n",
       " '    \\n',\n",
       " '    Congruent median: 14.3565\\n',\n",
       " '    Incongruent median: 21.0175\\n',\n",
       " '    \\n',\n",
       " '    \\n',\n",
       " '    Congruent variance: 12.6690290707\\n',\n",
       " '    Incongruent variance: 23.0117570362\\n',\n",
       " '    \\n',\n",
       " '\\n',\n",
       " '\\n',\n",
       " '```python\\n',\n",
       " '\\n',\n",
       " '```\\n',\n",
       " '\\n',\n",
       " '(4) Provide one or two visualizations that show the distribution of the sample data. Write one or two sentences noting what you observe about the plot or plots.\\n',\n",
       " '\\n',\n",
       " '\\n',\n",
       " '```python\\n',\n",
       " '# Build the visualizations here\\n',\n",
       " \"plt.hist(df.Congruent,alpha=0.5, label='Congruent Time');\\n\",\n",
       " \"plt.hist(df.Incongruent,alpha=0.5,label='Incongruent Time');\\n\",\n",
       " \"plt.legend(loc='upper right')\\n\",\n",
       " \"plt.title('Congruent and Incongruent Times Histograms')\\n\",\n",
       " 'plt.show()\\n',\n",
       " '```\\n',\n",
       " '\\n',\n",
       " '\\n',\n",
       " '![png](data_analyst_nanodegree_term_02_project_01_perceptual_phenomenon_python_004_files/data_analyst_nanodegree_term_02_project_01_perceptual_phenomenon_python_004_12_0.png)\\n',\n",
       " '\\n',\n",
       " '\\n',\n",
       " '**Observation:**<br>\\n',\n",
       " 'Congruent times are lower than incongruent times with some overlap i.e. participants took less time in the congruent test than the incongruent test. \\n',\n",
       " '\\n',\n",
       " '\\n',\n",
       " '```python\\n',\n",
       " '#set the x column as a range of numbers 0-27\\n',\n",
       " 'x=range(df.shape[0])\\n',\n",
       " 'x=pd.Series(x)\\n',\n",
       " '\\n',\n",
       " \"plt.plot(x,df.Congruent, label='Congruent Time');\\n\",\n",
       " \"plt.plot(x,df.Incongruent, label='Incongruent Time');\\n\",\n",
       " \"plt.legend(loc='upper left')\\n\",\n",
       " \"plt.title('Congruent Time and Incongruent Time Line plot')\\n\",\n",
       " 'plt.show()\\n',\n",
       " '\\n',\n",
       " '```\\n',\n",
       " '\\n',\n",
       " '\\n',\n",
       " '![png](data_analyst_nanodegree_term_02_project_01_perceptual_phenomenon_python_004_files/data_analyst_nanodegree_term_02_project_01_perceptual_phenomenon_python_004_14_0.png)\\n',\n",
       " '\\n',\n",
       " '\\n',\n",
       " '**Observation:**<br>\\n',\n",
       " 'The line plot confirms that each participant spent more time on Incongruent test than on congruent test. \\n',\n",
       " '\\n',\n",
       " '\\n',\n",
       " '```python\\n',\n",
       " '\\n',\n",
       " '```\\n',\n",
       " '\\n',\n",
       " '(5)  Now, perform the statistical test and report your results. What is your confidence level or Type I error associated with your test? What is your conclusion regarding the hypotheses you set up? Did the results match up with your expectations? **Hint:**  Think about what is being measured on each individual, and what statistic best captures how an individual reacts in each environment.\\n',\n",
       " '\\n',\n",
       " '\\n',\n",
       " '```python\\n',\n",
       " 'import scipy.stats as stats\\n',\n",
       " '```\\n',\n",
       " '\\n',\n",
       " '\\n',\n",
       " '```python\\n',\n",
       " \"t_stat, p_val =stats.ttest_rel(df['Congruent'], df['Incongruent'])\\n\",\n",
       " '#print(t_stat, p_val)\\n',\n",
       " \"print('t statistic is '+str(t_stat))\\n\",\n",
       " \"print('p value is '+str(p_val))\\n\",\n",
       " '```\\n',\n",
       " '\\n',\n",
       " '    t statistic is -8.02070694411\\n',\n",
       " '    p value is 4.10300058571e-08\\n',\n",
       " '    \\n',\n",
       " '\\n',\n",
       " '\\n',\n",
       " '```python\\n',\n",
       " '#lower bound for 95% confidence interval\\n',\n",
       " 'lower_t_95=stats.t.ppf(q=0.025,  # Quantile to check\\n',\n",
       " '            df=23)  # Degrees of freedom\\n',\n",
       " '\\n',\n",
       " 'upper_t_95=stats.t.ppf(q=0.975,  # Quantile to check\\n',\n",
       " '            df=23)  # Degrees of freedom\\n',\n",
       " '\\n',\n",
       " \"print('Confidence interval to accept null hypothesis if \\\\n t statistic is between: ' +str(lower_t_95)+' and '+str(upper_t_95))\\n\",\n",
       " '```\\n',\n",
       " '\\n',\n",
       " '    Confidence interval to accept null hypothesis if \\n',\n",
       " '     t statistic is between: -2.06865761042 and 2.06865761042\\n',\n",
       " '    \\n',\n",
       " '\\n',\n",
       " '**Observation:**<br>\\n',\n",
       " '<br>\\n',\n",
       " 'Analysing t statistic:<br>\\n',\n",
       " 'Since the t statistic of -8.021 is outside the acceptable 95% confidence interval of (-2.069, 2.069), we reject the \\n',\n",
       " 'null hypothsis. \\n',\n",
       " '<br><br>\\n',\n",
       " 'Analysing p value:<br>\\n',\n",
       " 'Also, since p value of 4.103e-08 is less than $\\\\alpha$ of 0.05, we reject the null as well.\\n',\n",
       " '\\n',\n",
       " 'Therefore, we can not accept the null hythesis that mean congruent value is equal to mean incongruent value.\\n',\n",
       " '\\n',\n",
       " '\\n',\n",
       " '```python\\n',\n",
       " '\\n',\n",
       " '```\\n',\n",
       " '\\n',\n",
       " '(6) Optional: What do you think is responsible for the effects observed? Can you think of an alternative or similar task that would result in a similar effect? Some research about the problem will be helpful for thinking about these two questions!\\n',\n",
       " '\\n',\n",
       " '**Answer**<br>\\n',\n",
       " 'The brain gets confused becuase what the words mean does not match the color of the words. The two theories stated on this site\\n',\n",
       " 'https://faculty.washington.edu/chudler/words.html#seffect are :\\n',\n",
       " '\\n',\n",
       " 'Speed of Processing Theory: the interference occurs because words are read faster than colors are named. <br>\\n',\n",
       " 'Selective Attention Theory: the interference occurs because naming colors requires more attention than reading words.\\n',\n",
       " '\\n',\n",
       " 'Similar task that would result in a similar effect: <br>\\n',\n",
       " 'Turn the words upside down or rotate them 90 degrees.\\n',\n",
       " '\\n',\n",
       " '\\n',\n",
       " '```python\\n',\n",
       " '\\n',\n",
       " '```\\n',\n",
       " '\\n',\n",
       " '**Reference**\\n',\n",
       " '\\n',\n",
       " 'https://stackoverflow.com/questions/22611446/perform-2-sample-t-test <br>\\n',\n",
       " 'https://docs.scipy.org/doc/scipy/reference/generated/scipy.stats.ttest_ind.html <br>\\n',\n",
       " 'https://docs.scipy.org/doc/scipy-0.14.0/reference/generated/scipy.stats.ttest_rel.html <br>\\n',\n",
       " 'http://benalexkeen.com/comparative-statistics-in-python-using-scipy/ <br>\\n',\n",
       " 'http://hamelg.blogspot.com/2015/11/python-for-data-analysis-part-24.html?view=mosaic <br>\\n',\n",
       " 'http://www.pythonforfinance.net/2016/04/04/python-skew-kurtosis/<br>\\n',\n",
       " 'https://stackoverflow.com/questions/45483890/how-to-correctly-use-scipys-skew-and-kurtosis-functions<br>\\n',\n",
       " 'http://davidmlane.com/hyperstat/A92403.html<br>\\n',\n",
       " 'https://stackoverflow.com/questions/12838993/scipy-normaltest-how-is-it-used <br>\\n',\n",
       " 'https://stackoverflow.com/questions/36667548/how-to-create-a-series-of-numbers-using-pandas-in-python <br>\\n',\n",
       " '\\n',\n",
       " '\\n',\n",
       " '```python\\n',\n",
       " '\\n',\n",
       " '```\\n']"
      ]
     },
     "execution_count": 9,
     "metadata": {},
     "output_type": "execute_result"
    }
   ],
   "source": [
    "# Open the file with read only permit\n",
    "f = open(markdown_name, \"r\")\n",
    "# use readlines to read all lines in the file\n",
    "# The variable \"lines\" is a list containing all lines in the file\n",
    "lines = f.readlines()\n",
    "# close the file after reading the lines.\n",
    "f.close()\n",
    "\n",
    "lines"
   ]
  },
  {
   "cell_type": "code",
   "execution_count": 10,
   "metadata": {},
   "outputs": [],
   "source": [
    "#lines"
   ]
  },
  {
   "cell_type": "code",
   "execution_count": 11,
   "metadata": {},
   "outputs": [],
   "source": [
    "#join the all the element sin lines list witn @@@ at the end of each line to perform operations\n",
    "content_joined=\"@@@\".join(lines)\n",
    "\n",
    "#use this below to split at @@@ and then save it to a md file\n",
    "#content_joined.split('@@@')"
   ]
  },
  {
   "cell_type": "code",
   "execution_count": 12,
   "metadata": {},
   "outputs": [
    {
     "data": {
      "text/plain": [
       "'\\n@@@### Analyzing the Stroop Effect\\n@@@Perform the analysis in the space below. Remember to follow [the instructions](https://docs.google.com/document/d/1-OkpZLjG_kX9J6LIQ5IltsqMzVWjh36QpnP2RYpVdPU/pub?embedded=True) and review the [project rubric](https://review.udacity.com/#!/rubrics/71/view) before submitting. Once you\\'ve completed the analysis and write-up, download this file as a PDF or HTML file, upload that PDF/HTML into the workspace here (click on the orange Jupyter icon in the upper left then Upload), then use the Submit Project button at the bottom of this page. This will create a zip file containing both this .ipynb doc and the PDF/HTML doc that will be submitted for your project.\\n@@@\\n@@@\\n@@@(1) What is the independent variable? What is the dependent variable?\\n@@@\\n@@@**Answer**<br>\\n@@@Dependent variables are the congruent and incongruent times.<br>\\n@@@Independent variables are word and color combination of text that is shown to the participants, also the size and type of fonts used.\\n@@@\\n@@@(2) What is an appropriate set of hypotheses for this task? Specify your null and alternative hypotheses, and clearly define any notation used. Justify your choices.\\n@@@\\n@@@**Answer**<br>\\n@@@Two tail test is ideal when direction is not important. In this case, the null hypothesis could be that mean congruent time is equal to mean incongruent time. The alternate hypothesis is that the mean congruent time is not equal to incongruent time.\\n@@@\\n@@@\\n@@@$$H_0: \\\\mu_{congruent} - \\\\mu_{incongruent} = 0$$\\n@@@$$H_0: \\\\mu_{congruent} - \\\\mu_{incongruent} \\\\neq 0$$\\n@@@\\n@@@**$\\\\mu_{congruent}$  and  $\\\\mu_{incongruent}$ are population mean.**\\n@@@\\n@@@** $\\\\alpha$ = 0.05  (threshold of type 1 error)**\\n@@@\\n@@@Degrees of freedom = 24-1=23\\n@@@\\n@@@Assumption: Since the same candidate is taking the congruent and incongruent test, I am assuming that the two are related ( the candidate is the same just the test is different).\\n@@@\\n@@@(3) Report some descriptive statistics regarding this dataset. Include at least one measure of central tendency and at least one measure of variability. The name of the data file is \\'stroopdata.csv\\'.\\n@@@\\n@@@\\n@@@```python\\n@@@# Perform the analysis here\\n@@@#import libraries\\n@@@import pandas as pd\\n@@@import numpy as np\\n@@@import matplotlib.pyplot as plt\\n@@@\\n@@@%matplotlib inline\\n@@@```\\n@@@\\n@@@\\n@@@```python\\n@@@#set random seed for reproducibilty\\n@@@#np.random.seed(42)\\n@@@```\\n@@@\\n@@@\\n@@@```python\\n@@@#read the data \\n@@@df=pd.read_csv(\\'stroopdata.csv\\')\\n@@@print(df.head())\\n@@@print(\\'\\\\n\\')\\n@@@print(df.info())\\n@@@```\\n@@@\\n@@@       Congruent  Incongruent\\n@@@    0     12.079       19.278\\n@@@    1     16.791       18.741\\n@@@    2      9.564       21.214\\n@@@    3      8.630       15.687\\n@@@    4     14.669       22.803\\n@@@    \\n@@@    \\n@@@    <class \\'pandas.core.frame.DataFrame\\'>\\n@@@    RangeIndex: 24 entries, 0 to 23\\n@@@    Data columns (total 2 columns):\\n@@@    Congruent      24 non-null float64\\n@@@    Incongruent    24 non-null float64\\n@@@    dtypes: float64(2)\\n@@@    memory usage: 464.0 bytes\\n@@@    None\\n@@@    \\n@@@\\n@@@\\n@@@```python\\n@@@df.describe()\\n@@@```\\n@@@\\n@@@\\n@@@\\n@@@\\n@@@<div>\\n@@@<style>\\n@@@    .dataframe thead tr:only-child th {\\n@@@        text-align: right;\\n@@@    }\\n@@@\\n@@@    .dataframe thead th {\\n@@@        text-align: left;\\n@@@    }\\n@@@\\n@@@    .dataframe tbody tr th {\\n@@@        vertical-align: top;\\n@@@    }\\n@@@</style>\\n@@@<table border=\"1\" class=\"dataframe\">\\n@@@  <thead>\\n@@@    <tr style=\"text-align: right;\">\\n@@@      <th></th>\\n@@@      <th>Congruent</th>\\n@@@      <th>Incongruent</th>\\n@@@    </tr>\\n@@@  </thead>\\n@@@  <tbody>\\n@@@    <tr>\\n@@@      <th>count</th>\\n@@@      <td>24.000000</td>\\n@@@      <td>24.000000</td>\\n@@@    </tr>\\n@@@    <tr>\\n@@@      <th>mean</th>\\n@@@      <td>14.051125</td>\\n@@@      <td>22.015917</td>\\n@@@    </tr>\\n@@@    <tr>\\n@@@      <th>std</th>\\n@@@      <td>3.559358</td>\\n@@@      <td>4.797057</td>\\n@@@    </tr>\\n@@@    <tr>\\n@@@      <th>min</th>\\n@@@      <td>8.630000</td>\\n@@@      <td>15.687000</td>\\n@@@    </tr>\\n@@@    <tr>\\n@@@      <th>25%</th>\\n@@@      <td>11.895250</td>\\n@@@      <td>18.716750</td>\\n@@@    </tr>\\n@@@    <tr>\\n@@@      <th>50%</th>\\n@@@      <td>14.356500</td>\\n@@@      <td>21.017500</td>\\n@@@    </tr>\\n@@@    <tr>\\n@@@      <th>75%</th>\\n@@@      <td>16.200750</td>\\n@@@      <td>24.051500</td>\\n@@@    </tr>\\n@@@    <tr>\\n@@@      <th>max</th>\\n@@@      <td>22.328000</td>\\n@@@      <td>35.255000</td>\\n@@@    </tr>\\n@@@  </tbody>\\n@@@</table>\\n@@@</div>\\n@@@\\n@@@\\n@@@\\n@@@\\n@@@```python\\n@@@print(\\'Congruent mean: \\' +str(df[\\'Congruent\\'].mean()))\\n@@@print(\\'Incongruent mean: \\' +str(df[\\'Incongruent\\'].mean()))\\n@@@obs_diff_mean=df[\\'Congruent\\'].mean()-df[\\'Incongruent\\'].mean()\\n@@@print(\\'Difference between congruent and incongruent mean \\'+str(obs_diff_mean))\\n@@@\\n@@@print(\\'\\\\n\\')\\n@@@print(\\'Congruent median: \\' +str(df.Congruent.median()))\\n@@@print(\\'Incongruent median: \\' +str(df.Incongruent.median()))\\n@@@\\n@@@print(\\'\\\\n\\')\\n@@@print(\\'Congruent variance: \\' +str(df.Congruent.var()))\\n@@@print(\\'Incongruent variance: \\' +str(df.Incongruent.var()))\\n@@@\\n@@@```\\n@@@\\n@@@    Congruent mean: 14.051125\\n@@@    Incongruent mean: 22.0159166667\\n@@@    Difference between congruent and incongruent mean -7.96479166667\\n@@@    \\n@@@    \\n@@@    Congruent median: 14.3565\\n@@@    Incongruent median: 21.0175\\n@@@    \\n@@@    \\n@@@    Congruent variance: 12.6690290707\\n@@@    Incongruent variance: 23.0117570362\\n@@@    \\n@@@\\n@@@\\n@@@```python\\n@@@\\n@@@```\\n@@@\\n@@@(4) Provide one or two visualizations that show the distribution of the sample data. Write one or two sentences noting what you observe about the plot or plots.\\n@@@\\n@@@\\n@@@```python\\n@@@# Build the visualizations here\\n@@@plt.hist(df.Congruent,alpha=0.5, label=\\'Congruent Time\\');\\n@@@plt.hist(df.Incongruent,alpha=0.5,label=\\'Incongruent Time\\');\\n@@@plt.legend(loc=\\'upper right\\')\\n@@@plt.title(\\'Congruent and Incongruent Times Histograms\\')\\n@@@plt.show()\\n@@@```\\n@@@\\n@@@\\n@@@![png](data_analyst_nanodegree_term_02_project_01_perceptual_phenomenon_python_004_files/data_analyst_nanodegree_term_02_project_01_perceptual_phenomenon_python_004_12_0.png)\\n@@@\\n@@@\\n@@@**Observation:**<br>\\n@@@Congruent times are lower than incongruent times with some overlap i.e. participants took less time in the congruent test than the incongruent test. \\n@@@\\n@@@\\n@@@```python\\n@@@#set the x column as a range of numbers 0-27\\n@@@x=range(df.shape[0])\\n@@@x=pd.Series(x)\\n@@@\\n@@@plt.plot(x,df.Congruent, label=\\'Congruent Time\\');\\n@@@plt.plot(x,df.Incongruent, label=\\'Incongruent Time\\');\\n@@@plt.legend(loc=\\'upper left\\')\\n@@@plt.title(\\'Congruent Time and Incongruent Time Line plot\\')\\n@@@plt.show()\\n@@@\\n@@@```\\n@@@\\n@@@\\n@@@![png](data_analyst_nanodegree_term_02_project_01_perceptual_phenomenon_python_004_files/data_analyst_nanodegree_term_02_project_01_perceptual_phenomenon_python_004_14_0.png)\\n@@@\\n@@@\\n@@@**Observation:**<br>\\n@@@The line plot confirms that each participant spent more time on Incongruent test than on congruent test. \\n@@@\\n@@@\\n@@@```python\\n@@@\\n@@@```\\n@@@\\n@@@(5)  Now, perform the statistical test and report your results. What is your confidence level or Type I error associated with your test? What is your conclusion regarding the hypotheses you set up? Did the results match up with your expectations? **Hint:**  Think about what is being measured on each individual, and what statistic best captures how an individual reacts in each environment.\\n@@@\\n@@@\\n@@@```python\\n@@@import scipy.stats as stats\\n@@@```\\n@@@\\n@@@\\n@@@```python\\n@@@t_stat, p_val =stats.ttest_rel(df[\\'Congruent\\'], df[\\'Incongruent\\'])\\n@@@#print(t_stat, p_val)\\n@@@print(\\'t statistic is \\'+str(t_stat))\\n@@@print(\\'p value is \\'+str(p_val))\\n@@@```\\n@@@\\n@@@    t statistic is -8.02070694411\\n@@@    p value is 4.10300058571e-08\\n@@@    \\n@@@\\n@@@\\n@@@```python\\n@@@#lower bound for 95% confidence interval\\n@@@lower_t_95=stats.t.ppf(q=0.025,  # Quantile to check\\n@@@            df=23)  # Degrees of freedom\\n@@@\\n@@@upper_t_95=stats.t.ppf(q=0.975,  # Quantile to check\\n@@@            df=23)  # Degrees of freedom\\n@@@\\n@@@print(\\'Confidence interval to accept null hypothesis if \\\\n t statistic is between: \\' +str(lower_t_95)+\\' and \\'+str(upper_t_95))\\n@@@```\\n@@@\\n@@@    Confidence interval to accept null hypothesis if \\n@@@     t statistic is between: -2.06865761042 and 2.06865761042\\n@@@    \\n@@@\\n@@@**Observation:**<br>\\n@@@<br>\\n@@@Analysing t statistic:<br>\\n@@@Since the t statistic of -8.021 is outside the acceptable 95% confidence interval of (-2.069, 2.069), we reject the \\n@@@null hypothsis. \\n@@@<br><br>\\n@@@Analysing p value:<br>\\n@@@Also, since p value of 4.103e-08 is less than $\\\\alpha$ of 0.05, we reject the null as well.\\n@@@\\n@@@Therefore, we can not accept the null hythesis that mean congruent value is equal to mean incongruent value.\\n@@@\\n@@@\\n@@@```python\\n@@@\\n@@@```\\n@@@\\n@@@(6) Optional: What do you think is responsible for the effects observed? Can you think of an alternative or similar task that would result in a similar effect? Some research about the problem will be helpful for thinking about these two questions!\\n@@@\\n@@@**Answer**<br>\\n@@@The brain gets confused becuase what the words mean does not match the color of the words. The two theories stated on this site\\n@@@https://faculty.washington.edu/chudler/words.html#seffect are :\\n@@@\\n@@@Speed of Processing Theory: the interference occurs because words are read faster than colors are named. <br>\\n@@@Selective Attention Theory: the interference occurs because naming colors requires more attention than reading words.\\n@@@\\n@@@Similar task that would result in a similar effect: <br>\\n@@@Turn the words upside down or rotate them 90 degrees.\\n@@@\\n@@@\\n@@@```python\\n@@@\\n@@@```\\n@@@\\n@@@**Reference**\\n@@@\\n@@@https://stackoverflow.com/questions/22611446/perform-2-sample-t-test <br>\\n@@@https://docs.scipy.org/doc/scipy/reference/generated/scipy.stats.ttest_ind.html <br>\\n@@@https://docs.scipy.org/doc/scipy-0.14.0/reference/generated/scipy.stats.ttest_rel.html <br>\\n@@@http://benalexkeen.com/comparative-statistics-in-python-using-scipy/ <br>\\n@@@http://hamelg.blogspot.com/2015/11/python-for-data-analysis-part-24.html?view=mosaic <br>\\n@@@http://www.pythonforfinance.net/2016/04/04/python-skew-kurtosis/<br>\\n@@@https://stackoverflow.com/questions/45483890/how-to-correctly-use-scipys-skew-and-kurtosis-functions<br>\\n@@@http://davidmlane.com/hyperstat/A92403.html<br>\\n@@@https://stackoverflow.com/questions/12838993/scipy-normaltest-how-is-it-used <br>\\n@@@https://stackoverflow.com/questions/36667548/how-to-create-a-series-of-numbers-using-pandas-in-python <br>\\n@@@\\n@@@\\n@@@```python\\n@@@\\n@@@```\\n'"
      ]
     },
     "execution_count": 12,
     "metadata": {},
     "output_type": "execute_result"
    }
   ],
   "source": [
    "content_joined"
   ]
  },
  {
   "cell_type": "code",
   "execution_count": null,
   "metadata": {},
   "outputs": [],
   "source": []
  },
  {
   "cell_type": "code",
   "execution_count": 13,
   "metadata": {},
   "outputs": [],
   "source": [
    "#backup for test purposes\n",
    "tmp=content_joined\n",
    "#content_joined=tmp\n"
   ]
  },
  {
   "cell_type": "code",
   "execution_count": 14,
   "metadata": {},
   "outputs": [],
   "source": [
    "#old image link\n",
    "#project_03_01_files/project_03_01_13_0.png\n",
    "\n",
    "#new image link\n",
    "#images/project_03_01_files/project_03_01_13_0.png\n",
    "\n",
    "#updated_image_link='images/'+subfolder_name+'/'+image_names[0]\n",
    "#content_joined.replace(images_folder_name+'/'+image_names[0],updated_image_link)\n",
    "\n",
    "\n",
    "#replace the image names with proper links+names\n",
    "for i in image_names:\n",
    "    #generate new links for md file\n",
    "    updated_image_link='images/'+subfolder_name+'/'+i\n",
    "    #replace the image name with proper image link\n",
    "    content_joined=content_joined.replace(images_folder_name+'/'+i,updated_image_link)"
   ]
  },
  {
   "cell_type": "code",
   "execution_count": 15,
   "metadata": {},
   "outputs": [
    {
     "data": {
      "text/plain": [
       "'\\n@@@### Analyzing the Stroop Effect\\n@@@Perform the analysis in the space below. Remember to follow [the instructions](https://docs.google.com/document/d/1-OkpZLjG_kX9J6LIQ5IltsqMzVWjh36QpnP2RYpVdPU/pub?embedded=True) and review the [project rubric](https://review.udacity.com/#!/rubrics/71/view) before submitting. Once you\\'ve completed the analysis and write-up, download this file as a PDF or HTML file, upload that PDF/HTML into the workspace here (click on the orange Jupyter icon in the upper left then Upload), then use the Submit Project button at the bottom of this page. This will create a zip file containing both this .ipynb doc and the PDF/HTML doc that will be submitted for your project.\\n@@@\\n@@@\\n@@@(1) What is the independent variable? What is the dependent variable?\\n@@@\\n@@@**Answer**<br>\\n@@@Dependent variables are the congruent and incongruent times.<br>\\n@@@Independent variables are word and color combination of text that is shown to the participants, also the size and type of fonts used.\\n@@@\\n@@@(2) What is an appropriate set of hypotheses for this task? Specify your null and alternative hypotheses, and clearly define any notation used. Justify your choices.\\n@@@\\n@@@**Answer**<br>\\n@@@Two tail test is ideal when direction is not important. In this case, the null hypothesis could be that mean congruent time is equal to mean incongruent time. The alternate hypothesis is that the mean congruent time is not equal to incongruent time.\\n@@@\\n@@@\\n@@@$$H_0: \\\\mu_{congruent} - \\\\mu_{incongruent} = 0$$\\n@@@$$H_0: \\\\mu_{congruent} - \\\\mu_{incongruent} \\\\neq 0$$\\n@@@\\n@@@**$\\\\mu_{congruent}$  and  $\\\\mu_{incongruent}$ are population mean.**\\n@@@\\n@@@** $\\\\alpha$ = 0.05  (threshold of type 1 error)**\\n@@@\\n@@@Degrees of freedom = 24-1=23\\n@@@\\n@@@Assumption: Since the same candidate is taking the congruent and incongruent test, I am assuming that the two are related ( the candidate is the same just the test is different).\\n@@@\\n@@@(3) Report some descriptive statistics regarding this dataset. Include at least one measure of central tendency and at least one measure of variability. The name of the data file is \\'stroopdata.csv\\'.\\n@@@\\n@@@\\n@@@```python\\n@@@# Perform the analysis here\\n@@@#import libraries\\n@@@import pandas as pd\\n@@@import numpy as np\\n@@@import matplotlib.pyplot as plt\\n@@@\\n@@@%matplotlib inline\\n@@@```\\n@@@\\n@@@\\n@@@```python\\n@@@#set random seed for reproducibilty\\n@@@#np.random.seed(42)\\n@@@```\\n@@@\\n@@@\\n@@@```python\\n@@@#read the data \\n@@@df=pd.read_csv(\\'stroopdata.csv\\')\\n@@@print(df.head())\\n@@@print(\\'\\\\n\\')\\n@@@print(df.info())\\n@@@```\\n@@@\\n@@@       Congruent  Incongruent\\n@@@    0     12.079       19.278\\n@@@    1     16.791       18.741\\n@@@    2      9.564       21.214\\n@@@    3      8.630       15.687\\n@@@    4     14.669       22.803\\n@@@    \\n@@@    \\n@@@    <class \\'pandas.core.frame.DataFrame\\'>\\n@@@    RangeIndex: 24 entries, 0 to 23\\n@@@    Data columns (total 2 columns):\\n@@@    Congruent      24 non-null float64\\n@@@    Incongruent    24 non-null float64\\n@@@    dtypes: float64(2)\\n@@@    memory usage: 464.0 bytes\\n@@@    None\\n@@@    \\n@@@\\n@@@\\n@@@```python\\n@@@df.describe()\\n@@@```\\n@@@\\n@@@\\n@@@\\n@@@\\n@@@<div>\\n@@@<style>\\n@@@    .dataframe thead tr:only-child th {\\n@@@        text-align: right;\\n@@@    }\\n@@@\\n@@@    .dataframe thead th {\\n@@@        text-align: left;\\n@@@    }\\n@@@\\n@@@    .dataframe tbody tr th {\\n@@@        vertical-align: top;\\n@@@    }\\n@@@</style>\\n@@@<table border=\"1\" class=\"dataframe\">\\n@@@  <thead>\\n@@@    <tr style=\"text-align: right;\">\\n@@@      <th></th>\\n@@@      <th>Congruent</th>\\n@@@      <th>Incongruent</th>\\n@@@    </tr>\\n@@@  </thead>\\n@@@  <tbody>\\n@@@    <tr>\\n@@@      <th>count</th>\\n@@@      <td>24.000000</td>\\n@@@      <td>24.000000</td>\\n@@@    </tr>\\n@@@    <tr>\\n@@@      <th>mean</th>\\n@@@      <td>14.051125</td>\\n@@@      <td>22.015917</td>\\n@@@    </tr>\\n@@@    <tr>\\n@@@      <th>std</th>\\n@@@      <td>3.559358</td>\\n@@@      <td>4.797057</td>\\n@@@    </tr>\\n@@@    <tr>\\n@@@      <th>min</th>\\n@@@      <td>8.630000</td>\\n@@@      <td>15.687000</td>\\n@@@    </tr>\\n@@@    <tr>\\n@@@      <th>25%</th>\\n@@@      <td>11.895250</td>\\n@@@      <td>18.716750</td>\\n@@@    </tr>\\n@@@    <tr>\\n@@@      <th>50%</th>\\n@@@      <td>14.356500</td>\\n@@@      <td>21.017500</td>\\n@@@    </tr>\\n@@@    <tr>\\n@@@      <th>75%</th>\\n@@@      <td>16.200750</td>\\n@@@      <td>24.051500</td>\\n@@@    </tr>\\n@@@    <tr>\\n@@@      <th>max</th>\\n@@@      <td>22.328000</td>\\n@@@      <td>35.255000</td>\\n@@@    </tr>\\n@@@  </tbody>\\n@@@</table>\\n@@@</div>\\n@@@\\n@@@\\n@@@\\n@@@\\n@@@```python\\n@@@print(\\'Congruent mean: \\' +str(df[\\'Congruent\\'].mean()))\\n@@@print(\\'Incongruent mean: \\' +str(df[\\'Incongruent\\'].mean()))\\n@@@obs_diff_mean=df[\\'Congruent\\'].mean()-df[\\'Incongruent\\'].mean()\\n@@@print(\\'Difference between congruent and incongruent mean \\'+str(obs_diff_mean))\\n@@@\\n@@@print(\\'\\\\n\\')\\n@@@print(\\'Congruent median: \\' +str(df.Congruent.median()))\\n@@@print(\\'Incongruent median: \\' +str(df.Incongruent.median()))\\n@@@\\n@@@print(\\'\\\\n\\')\\n@@@print(\\'Congruent variance: \\' +str(df.Congruent.var()))\\n@@@print(\\'Incongruent variance: \\' +str(df.Incongruent.var()))\\n@@@\\n@@@```\\n@@@\\n@@@    Congruent mean: 14.051125\\n@@@    Incongruent mean: 22.0159166667\\n@@@    Difference between congruent and incongruent mean -7.96479166667\\n@@@    \\n@@@    \\n@@@    Congruent median: 14.3565\\n@@@    Incongruent median: 21.0175\\n@@@    \\n@@@    \\n@@@    Congruent variance: 12.6690290707\\n@@@    Incongruent variance: 23.0117570362\\n@@@    \\n@@@\\n@@@\\n@@@```python\\n@@@\\n@@@```\\n@@@\\n@@@(4) Provide one or two visualizations that show the distribution of the sample data. Write one or two sentences noting what you observe about the plot or plots.\\n@@@\\n@@@\\n@@@```python\\n@@@# Build the visualizations here\\n@@@plt.hist(df.Congruent,alpha=0.5, label=\\'Congruent Time\\');\\n@@@plt.hist(df.Incongruent,alpha=0.5,label=\\'Incongruent Time\\');\\n@@@plt.legend(loc=\\'upper right\\')\\n@@@plt.title(\\'Congruent and Incongruent Times Histograms\\')\\n@@@plt.show()\\n@@@```\\n@@@\\n@@@\\n@@@![png](images/data_analyst_nanodegree_term_02_project_01_perceptual_phenomenon_python_004/data_analyst_nanodegree_term_02_project_01_perceptual_phenomenon_python_004_12_0.png)\\n@@@\\n@@@\\n@@@**Observation:**<br>\\n@@@Congruent times are lower than incongruent times with some overlap i.e. participants took less time in the congruent test than the incongruent test. \\n@@@\\n@@@\\n@@@```python\\n@@@#set the x column as a range of numbers 0-27\\n@@@x=range(df.shape[0])\\n@@@x=pd.Series(x)\\n@@@\\n@@@plt.plot(x,df.Congruent, label=\\'Congruent Time\\');\\n@@@plt.plot(x,df.Incongruent, label=\\'Incongruent Time\\');\\n@@@plt.legend(loc=\\'upper left\\')\\n@@@plt.title(\\'Congruent Time and Incongruent Time Line plot\\')\\n@@@plt.show()\\n@@@\\n@@@```\\n@@@\\n@@@\\n@@@![png](images/data_analyst_nanodegree_term_02_project_01_perceptual_phenomenon_python_004/data_analyst_nanodegree_term_02_project_01_perceptual_phenomenon_python_004_14_0.png)\\n@@@\\n@@@\\n@@@**Observation:**<br>\\n@@@The line plot confirms that each participant spent more time on Incongruent test than on congruent test. \\n@@@\\n@@@\\n@@@```python\\n@@@\\n@@@```\\n@@@\\n@@@(5)  Now, perform the statistical test and report your results. What is your confidence level or Type I error associated with your test? What is your conclusion regarding the hypotheses you set up? Did the results match up with your expectations? **Hint:**  Think about what is being measured on each individual, and what statistic best captures how an individual reacts in each environment.\\n@@@\\n@@@\\n@@@```python\\n@@@import scipy.stats as stats\\n@@@```\\n@@@\\n@@@\\n@@@```python\\n@@@t_stat, p_val =stats.ttest_rel(df[\\'Congruent\\'], df[\\'Incongruent\\'])\\n@@@#print(t_stat, p_val)\\n@@@print(\\'t statistic is \\'+str(t_stat))\\n@@@print(\\'p value is \\'+str(p_val))\\n@@@```\\n@@@\\n@@@    t statistic is -8.02070694411\\n@@@    p value is 4.10300058571e-08\\n@@@    \\n@@@\\n@@@\\n@@@```python\\n@@@#lower bound for 95% confidence interval\\n@@@lower_t_95=stats.t.ppf(q=0.025,  # Quantile to check\\n@@@            df=23)  # Degrees of freedom\\n@@@\\n@@@upper_t_95=stats.t.ppf(q=0.975,  # Quantile to check\\n@@@            df=23)  # Degrees of freedom\\n@@@\\n@@@print(\\'Confidence interval to accept null hypothesis if \\\\n t statistic is between: \\' +str(lower_t_95)+\\' and \\'+str(upper_t_95))\\n@@@```\\n@@@\\n@@@    Confidence interval to accept null hypothesis if \\n@@@     t statistic is between: -2.06865761042 and 2.06865761042\\n@@@    \\n@@@\\n@@@**Observation:**<br>\\n@@@<br>\\n@@@Analysing t statistic:<br>\\n@@@Since the t statistic of -8.021 is outside the acceptable 95% confidence interval of (-2.069, 2.069), we reject the \\n@@@null hypothsis. \\n@@@<br><br>\\n@@@Analysing p value:<br>\\n@@@Also, since p value of 4.103e-08 is less than $\\\\alpha$ of 0.05, we reject the null as well.\\n@@@\\n@@@Therefore, we can not accept the null hythesis that mean congruent value is equal to mean incongruent value.\\n@@@\\n@@@\\n@@@```python\\n@@@\\n@@@```\\n@@@\\n@@@(6) Optional: What do you think is responsible for the effects observed? Can you think of an alternative or similar task that would result in a similar effect? Some research about the problem will be helpful for thinking about these two questions!\\n@@@\\n@@@**Answer**<br>\\n@@@The brain gets confused becuase what the words mean does not match the color of the words. The two theories stated on this site\\n@@@https://faculty.washington.edu/chudler/words.html#seffect are :\\n@@@\\n@@@Speed of Processing Theory: the interference occurs because words are read faster than colors are named. <br>\\n@@@Selective Attention Theory: the interference occurs because naming colors requires more attention than reading words.\\n@@@\\n@@@Similar task that would result in a similar effect: <br>\\n@@@Turn the words upside down or rotate them 90 degrees.\\n@@@\\n@@@\\n@@@```python\\n@@@\\n@@@```\\n@@@\\n@@@**Reference**\\n@@@\\n@@@https://stackoverflow.com/questions/22611446/perform-2-sample-t-test <br>\\n@@@https://docs.scipy.org/doc/scipy/reference/generated/scipy.stats.ttest_ind.html <br>\\n@@@https://docs.scipy.org/doc/scipy-0.14.0/reference/generated/scipy.stats.ttest_rel.html <br>\\n@@@http://benalexkeen.com/comparative-statistics-in-python-using-scipy/ <br>\\n@@@http://hamelg.blogspot.com/2015/11/python-for-data-analysis-part-24.html?view=mosaic <br>\\n@@@http://www.pythonforfinance.net/2016/04/04/python-skew-kurtosis/<br>\\n@@@https://stackoverflow.com/questions/45483890/how-to-correctly-use-scipys-skew-and-kurtosis-functions<br>\\n@@@http://davidmlane.com/hyperstat/A92403.html<br>\\n@@@https://stackoverflow.com/questions/12838993/scipy-normaltest-how-is-it-used <br>\\n@@@https://stackoverflow.com/questions/36667548/how-to-create-a-series-of-numbers-using-pandas-in-python <br>\\n@@@\\n@@@\\n@@@```python\\n@@@\\n@@@```\\n'"
      ]
     },
     "execution_count": 15,
     "metadata": {},
     "output_type": "execute_result"
    }
   ],
   "source": [
    "content_joined"
   ]
  },
  {
   "cell_type": "code",
   "execution_count": 16,
   "metadata": {},
   "outputs": [],
   "source": [
    "#use this below to split at @@@ and then save it to a md file\n",
    "lines=content_joined.split('@@@')"
   ]
  },
  {
   "cell_type": "code",
   "execution_count": 17,
   "metadata": {},
   "outputs": [],
   "source": [
    "### use this to write the files back\n",
    "with open(markdown_name, 'w') as filehandle:  \n",
    "    filehandle.writelines(\"%s\" % place for place in lines)\n",
    "    #code below will add a line break\n",
    "    #filehandle.writelines(\"%s\\n\" % place for place in places_list)"
   ]
  },
  {
   "cell_type": "code",
   "execution_count": 18,
   "metadata": {},
   "outputs": [],
   "source": [
    "#copy image files to the images/movie_data_eda subfoler\n",
    "\n",
    "#define source and destination\n",
    "source=os.listdir(images_folder_name)\n",
    "destination='git_page/images/'+subfolder_name\n",
    "\n",
    "\n",
    "#works\n",
    "for files in source:\n",
    "    if files.endswith(\".png\"):\n",
    "        shutil.copy(images_folder_name+'/'+files,destination)\n",
    "        #print(files)"
   ]
  },
  {
   "cell_type": "code",
   "execution_count": 19,
   "metadata": {},
   "outputs": [
    {
     "data": {
      "text/plain": [
       "'git_page/data_analyst_nanodegree_term_02_project_01_perceptual_phenomenon_python_004.md'"
      ]
     },
     "execution_count": 19,
     "metadata": {},
     "output_type": "execute_result"
    }
   ],
   "source": [
    "#copy md file to git_page folder\n",
    "#source='markdown/project_03_01.md'\n",
    "#destination='git_page/'\n",
    "#shutil.copy(source, destination)\n",
    "\n",
    "source=markdown_name\n",
    "destination='git_page/'\n",
    "shutil.copy(source, destination)"
   ]
  },
  {
   "cell_type": "code",
   "execution_count": 20,
   "metadata": {},
   "outputs": [],
   "source": [
    "#delete the images folder that is OUTSIDE the git_page folder\n",
    "shutil.rmtree(images_folder_name) #remove folder\n",
    "#delete the markdonw file that is OUTSIDE the git_page folder\n",
    "os.remove(markdown_name) #remove file"
   ]
  },
  {
   "cell_type": "code",
   "execution_count": null,
   "metadata": {},
   "outputs": [],
   "source": []
  },
  {
   "cell_type": "code",
   "execution_count": 21,
   "metadata": {},
   "outputs": [],
   "source": [
    "###################################################################"
   ]
  },
  {
   "cell_type": "code",
   "execution_count": null,
   "metadata": {},
   "outputs": [],
   "source": []
  }
 ],
 "metadata": {
  "kernelspec": {
   "display_name": "Python 3",
   "language": "python",
   "name": "python3"
  },
  "language_info": {
   "codemirror_mode": {
    "name": "ipython",
    "version": 3
   },
   "file_extension": ".py",
   "mimetype": "text/x-python",
   "name": "python",
   "nbconvert_exporter": "python",
   "pygments_lexer": "ipython3",
   "version": "3.6.4"
  }
 },
 "nbformat": 4,
 "nbformat_minor": 2
}

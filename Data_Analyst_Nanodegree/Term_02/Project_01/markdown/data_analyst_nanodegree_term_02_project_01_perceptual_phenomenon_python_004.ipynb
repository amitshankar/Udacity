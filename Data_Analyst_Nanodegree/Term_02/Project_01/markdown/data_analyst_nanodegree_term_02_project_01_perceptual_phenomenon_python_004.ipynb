{
 "cells": [
  {
   "cell_type": "markdown",
   "metadata": {},
   "source": [
    "### Analyzing the Stroop Effect\n",
    "Perform the analysis in the space below. Remember to follow [the instructions](https://docs.google.com/document/d/1-OkpZLjG_kX9J6LIQ5IltsqMzVWjh36QpnP2RYpVdPU/pub?embedded=True) and review the [project rubric](https://review.udacity.com/#!/rubrics/71/view) before submitting. Once you've completed the analysis and write-up, download this file as a PDF or HTML file, upload that PDF/HTML into the workspace here (click on the orange Jupyter icon in the upper left then Upload), then use the Submit Project button at the bottom of this page. This will create a zip file containing both this .ipynb doc and the PDF/HTML doc that will be submitted for your project.\n",
    "\n",
    "\n",
    "(1) What is the independent variable? What is the dependent variable?"
   ]
  },
  {
   "cell_type": "markdown",
   "metadata": {},
   "source": [
    "**Answer**<br>\n",
    "Dependent variables are the congruent and incongruent times.<br>\n",
    "Independent variables are word and color combination of text that is shown to the participants, also the size and type of fonts used."
   ]
  },
  {
   "cell_type": "markdown",
   "metadata": {},
   "source": [
    "(2) What is an appropriate set of hypotheses for this task? Specify your null and alternative hypotheses, and clearly define any notation used. Justify your choices."
   ]
  },
  {
   "cell_type": "markdown",
   "metadata": {},
   "source": [
    "**Answer**<br>\n",
    "Two tail test is ideal when direction is not important. In this case, the null hypothesis could be that mean congruent time is equal to mean incongruent time. The alternate hypothesis is that the mean congruent time is not equal to incongruent time.\n",
    "\n",
    "\n",
    "$$H_0: \\mu_{congruent} - \\mu_{incongruent} = 0$$\n",
    "$$H_0: \\mu_{congruent} - \\mu_{incongruent} \\neq 0$$\n",
    "\n",
    "**$\\mu_{congruent}$  and  $\\mu_{incongruent}$ are population mean.**\n",
    "\n",
    "** $\\alpha$ = 0.05  (threshold of type 1 error)**\n",
    "\n",
    "Degrees of freedom = 24-1=23\n",
    "\n",
    "Assumption: Since the same candidate is taking the congruent and incongruent test, I am assuming that the two are related ( the candidate is the same just the test is different)."
   ]
  },
  {
   "cell_type": "markdown",
   "metadata": {},
   "source": [
    "(3) Report some descriptive statistics regarding this dataset. Include at least one measure of central tendency and at least one measure of variability. The name of the data file is 'stroopdata.csv'."
   ]
  },
  {
   "cell_type": "code",
   "execution_count": 2,
   "metadata": {},
   "outputs": [],
   "source": [
    "# Perform the analysis here\n",
    "#import libraries\n",
    "import pandas as pd\n",
    "import numpy as np\n",
    "import matplotlib.pyplot as plt\n",
    "\n",
    "%matplotlib inline"
   ]
  },
  {
   "cell_type": "code",
   "execution_count": 3,
   "metadata": {},
   "outputs": [],
   "source": [
    "#set random seed for reproducibilty\n",
    "#np.random.seed(42)"
   ]
  },
  {
   "cell_type": "code",
   "execution_count": 4,
   "metadata": {},
   "outputs": [
    {
     "name": "stdout",
     "output_type": "stream",
     "text": [
      "   Congruent  Incongruent\n",
      "0     12.079       19.278\n",
      "1     16.791       18.741\n",
      "2      9.564       21.214\n",
      "3      8.630       15.687\n",
      "4     14.669       22.803\n",
      "\n",
      "\n",
      "<class 'pandas.core.frame.DataFrame'>\n",
      "RangeIndex: 24 entries, 0 to 23\n",
      "Data columns (total 2 columns):\n",
      "Congruent      24 non-null float64\n",
      "Incongruent    24 non-null float64\n",
      "dtypes: float64(2)\n",
      "memory usage: 464.0 bytes\n",
      "None\n"
     ]
    }
   ],
   "source": [
    "#read the data \n",
    "df=pd.read_csv('stroopdata.csv')\n",
    "print(df.head())\n",
    "print('\\n')\n",
    "print(df.info())"
   ]
  },
  {
   "cell_type": "code",
   "execution_count": 5,
   "metadata": {},
   "outputs": [
    {
     "data": {
      "text/html": [
       "<div>\n",
       "<style>\n",
       "    .dataframe thead tr:only-child th {\n",
       "        text-align: right;\n",
       "    }\n",
       "\n",
       "    .dataframe thead th {\n",
       "        text-align: left;\n",
       "    }\n",
       "\n",
       "    .dataframe tbody tr th {\n",
       "        vertical-align: top;\n",
       "    }\n",
       "</style>\n",
       "<table border=\"1\" class=\"dataframe\">\n",
       "  <thead>\n",
       "    <tr style=\"text-align: right;\">\n",
       "      <th></th>\n",
       "      <th>Congruent</th>\n",
       "      <th>Incongruent</th>\n",
       "    </tr>\n",
       "  </thead>\n",
       "  <tbody>\n",
       "    <tr>\n",
       "      <th>count</th>\n",
       "      <td>24.000000</td>\n",
       "      <td>24.000000</td>\n",
       "    </tr>\n",
       "    <tr>\n",
       "      <th>mean</th>\n",
       "      <td>14.051125</td>\n",
       "      <td>22.015917</td>\n",
       "    </tr>\n",
       "    <tr>\n",
       "      <th>std</th>\n",
       "      <td>3.559358</td>\n",
       "      <td>4.797057</td>\n",
       "    </tr>\n",
       "    <tr>\n",
       "      <th>min</th>\n",
       "      <td>8.630000</td>\n",
       "      <td>15.687000</td>\n",
       "    </tr>\n",
       "    <tr>\n",
       "      <th>25%</th>\n",
       "      <td>11.895250</td>\n",
       "      <td>18.716750</td>\n",
       "    </tr>\n",
       "    <tr>\n",
       "      <th>50%</th>\n",
       "      <td>14.356500</td>\n",
       "      <td>21.017500</td>\n",
       "    </tr>\n",
       "    <tr>\n",
       "      <th>75%</th>\n",
       "      <td>16.200750</td>\n",
       "      <td>24.051500</td>\n",
       "    </tr>\n",
       "    <tr>\n",
       "      <th>max</th>\n",
       "      <td>22.328000</td>\n",
       "      <td>35.255000</td>\n",
       "    </tr>\n",
       "  </tbody>\n",
       "</table>\n",
       "</div>"
      ],
      "text/plain": [
       "       Congruent  Incongruent\n",
       "count  24.000000    24.000000\n",
       "mean   14.051125    22.015917\n",
       "std     3.559358     4.797057\n",
       "min     8.630000    15.687000\n",
       "25%    11.895250    18.716750\n",
       "50%    14.356500    21.017500\n",
       "75%    16.200750    24.051500\n",
       "max    22.328000    35.255000"
      ]
     },
     "execution_count": 5,
     "metadata": {},
     "output_type": "execute_result"
    }
   ],
   "source": [
    "df.describe()"
   ]
  },
  {
   "cell_type": "code",
   "execution_count": 7,
   "metadata": {},
   "outputs": [
    {
     "name": "stdout",
     "output_type": "stream",
     "text": [
      "Congruent mean: 14.051125\n",
      "Incongruent mean: 22.0159166667\n",
      "Difference between congruent and incongruent mean -7.96479166667\n",
      "\n",
      "\n",
      "Congruent median: 14.3565\n",
      "Incongruent median: 21.0175\n",
      "\n",
      "\n",
      "Congruent variance: 12.6690290707\n",
      "Incongruent variance: 23.0117570362\n"
     ]
    }
   ],
   "source": [
    "print('Congruent mean: ' +str(df['Congruent'].mean()))\n",
    "print('Incongruent mean: ' +str(df['Incongruent'].mean()))\n",
    "obs_diff_mean=df['Congruent'].mean()-df['Incongruent'].mean()\n",
    "print('Difference between congruent and incongruent mean '+str(obs_diff_mean))\n",
    "\n",
    "print('\\n')\n",
    "print('Congruent median: ' +str(df.Congruent.median()))\n",
    "print('Incongruent median: ' +str(df.Incongruent.median()))\n",
    "\n",
    "print('\\n')\n",
    "print('Congruent variance: ' +str(df.Congruent.var()))\n",
    "print('Incongruent variance: ' +str(df.Incongruent.var()))\n"
   ]
  },
  {
   "cell_type": "code",
   "execution_count": null,
   "metadata": {},
   "outputs": [],
   "source": []
  },
  {
   "cell_type": "markdown",
   "metadata": {},
   "source": [
    "(4) Provide one or two visualizations that show the distribution of the sample data. Write one or two sentences noting what you observe about the plot or plots."
   ]
  },
  {
   "cell_type": "code",
   "execution_count": 17,
   "metadata": {},
   "outputs": [
    {
     "data": {
      "image/png": "[encoded data removed]",
      "text/plain": [
       "<matplotlib.figure.Figure at 0x7f3a37215128>"
      ]
     },
     "metadata": {},
     "output_type": "display_data"
    }
   ],
   "source": [
    "# Build the visualizations here\n",
    "plt.hist(df.Congruent,alpha=0.5, label='Congruent Time');\n",
    "plt.hist(df.Incongruent,alpha=0.5,label='Incongruent Time');\n",
    "plt.legend(loc='upper right')\n",
    "plt.title('Congruent and Incongruent Times Histograms')\n",
    "plt.show()"
   ]
  },
  {
   "cell_type": "markdown",
   "metadata": {},
   "source": [
    "**Observation:**<br>\n",
    "Congruent times are lower than incongruent times with some overlap i.e. participants took less time in the congruent test than the incongruent test. "
   ]
  },
  {
   "cell_type": "code",
   "execution_count": 12,
   "metadata": {},
   "outputs": [
    {
     "data": {
      "image/png": "[encoded data removed]",
      "text/plain": [
       "<matplotlib.figure.Figure at 0x7f3a3f0bb668>"
      ]
     },
     "metadata": {},
     "output_type": "display_data"
    }
   ],
   "source": [
    "#set the x column as a range of numbers 0-27\n",
    "x=range(df.shape[0])\n",
    "x=pd.Series(x)\n",
    "\n",
    "plt.plot(x,df.Congruent, label='Congruent Time');\n",
    "plt.plot(x,df.Incongruent, label='Incongruent Time');\n",
    "plt.legend(loc='upper left')\n",
    "plt.title('Congruent Time and Incongruent Time Line plot')\n",
    "plt.show()\n"
   ]
  },
  {
   "cell_type": "markdown",
   "metadata": {},
   "source": [
    "**Observation:**<br>\n",
    "The line plot confirms that each participant spent more time on Incongruent test than on congruent test. "
   ]
  },
  {
   "cell_type": "code",
   "execution_count": null,
   "metadata": {},
   "outputs": [],
   "source": []
  },
  {
   "cell_type": "markdown",
   "metadata": {},
   "source": [
    "(5)  Now, perform the statistical test and report your results. What is your confidence level or Type I error associated with your test? What is your conclusion regarding the hypotheses you set up? Did the results match up with your expectations? **Hint:**  Think about what is being measured on each individual, and what statistic best captures how an individual reacts in each environment."
   ]
  },
  {
   "cell_type": "code",
   "execution_count": 13,
   "metadata": {},
   "outputs": [],
   "source": [
    "import scipy.stats as stats"
   ]
  },
  {
   "cell_type": "code",
   "execution_count": 14,
   "metadata": {},
   "outputs": [
    {
     "name": "stdout",
     "output_type": "stream",
     "text": [
      "t statistic is -8.02070694411\n",
      "p value is 4.10300058571e-08\n"
     ]
    }
   ],
   "source": [
    "t_stat, p_val =stats.ttest_rel(df['Congruent'], df['Incongruent'])\n",
    "#print(t_stat, p_val)\n",
    "print('t statistic is '+str(t_stat))\n",
    "print('p value is '+str(p_val))"
   ]
  },
  {
   "cell_type": "code",
   "execution_count": 15,
   "metadata": {},
   "outputs": [
    {
     "name": "stdout",
     "output_type": "stream",
     "text": [
      "Confidence interval to accept null hypothesis if \n",
      " t statistic is between: -2.06865761042 and 2.06865761042\n"
     ]
    }
   ],
   "source": [
    "#lower bound for 95% confidence interval\n",
    "lower_t_95=stats.t.ppf(q=0.025,  # Quantile to check\n",
    "            df=23)  # Degrees of freedom\n",
    "\n",
    "upper_t_95=stats.t.ppf(q=0.975,  # Quantile to check\n",
    "            df=23)  # Degrees of freedom\n",
    "\n",
    "print('Confidence interval to accept null hypothesis if \\n t statistic is between: ' +str(lower_t_95)+' and '+str(upper_t_95))"
   ]
  },
  {
   "cell_type": "markdown",
   "metadata": {},
   "source": [
    "**Observation:**<br>\n",
    "<br>\n",
    "Analysing t statistic:<br>\n",
    "Since the t statistic of -8.021 is outside the acceptable 95% confidence interval of (-2.069, 2.069), we reject the \n",
    "null hypothsis. \n",
    "<br><br>\n",
    "Analysing p value:<br>\n",
    "Also, since p value of 4.103e-08 is less than $\\alpha$ of 0.05, we reject the null as well.\n",
    "\n",
    "Therefore, we can not accept the null hythesis that mean congruent value is equal to mean incongruent value."
   ]
  },
  {
   "cell_type": "code",
   "execution_count": null,
   "metadata": {},
   "outputs": [],
   "source": []
  },
  {
   "cell_type": "markdown",
   "metadata": {},
   "source": [
    "(6) Optional: What do you think is responsible for the effects observed? Can you think of an alternative or similar task that would result in a similar effect? Some research about the problem will be helpful for thinking about these two questions!"
   ]
  },
  {
   "cell_type": "markdown",
   "metadata": {},
   "source": [
    "**Answer**<br>\n",
    "The brain gets confused becuase what the words mean does not match the color of the words. The two theories stated on this site\n",
    "https://faculty.washington.edu/chudler/words.html#seffect are :\n",
    "\n",
    "Speed of Processing Theory: the interference occurs because words are read faster than colors are named. <br>\n",
    "Selective Attention Theory: the interference occurs because naming colors requires more attention than reading words.\n",
    "\n",
    "Similar task that would result in a similar effect: <br>\n",
    "Turn the words upside down or rotate them 90 degrees."
   ]
  },
  {
   "cell_type": "code",
   "execution_count": null,
   "metadata": {},
   "outputs": [],
   "source": []
  },
  {
   "cell_type": "markdown",
   "metadata": {},
   "source": [
    "**Reference**\n",
    "\n",
    "https://stackoverflow.com/questions/22611446/perform-2-sample-t-test <br>\n",
    "https://docs.scipy.org/doc/scipy/reference/generated/scipy.stats.ttest_ind.html <br>\n",
    "https://docs.scipy.org/doc/scipy-0.14.0/reference/generated/scipy.stats.ttest_rel.html <br>\n",
    "http://benalexkeen.com/comparative-statistics-in-python-using-scipy/ <br>\n",
    "http://hamelg.blogspot.com/2015/11/python-for-data-analysis-part-24.html?view=mosaic <br>\n",
    "http://www.pythonforfinance.net/2016/04/04/python-skew-kurtosis/<br>\n",
    "https://stackoverflow.com/questions/45483890/how-to-correctly-use-scipys-skew-and-kurtosis-functions<br>\n",
    "http://davidmlane.com/hyperstat/A92403.html<br>\n",
    "https://stackoverflow.com/questions/12838993/scipy-normaltest-how-is-it-used <br>\n",
    "https://stackoverflow.com/questions/36667548/how-to-create-a-series-of-numbers-using-pandas-in-python <br>"
   ]
  },
  {
   "cell_type": "code",
   "execution_count": null,
   "metadata": {},
   "outputs": [],
   "source": []
  }
 ],
 "metadata": {
  "kernelspec": {
   "display_name": "Python 3",
   "language": "python",
   "name": "python3"
  },
  "language_info": {
   "codemirror_mode": {
    "name": "ipython",
    "version": 3
   },
   "file_extension": ".py",
   "mimetype": "text/x-python",
   "name": "python",
   "nbconvert_exporter": "python",
   "pygments_lexer": "ipython3",
   "version": "3.6.3"
  }
 },
 "nbformat": 4,
 "nbformat_minor": 2
}

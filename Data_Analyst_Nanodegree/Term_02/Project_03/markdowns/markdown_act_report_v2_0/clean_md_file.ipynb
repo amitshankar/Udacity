{
 "cells": [
  {
   "cell_type": "markdown",
   "metadata": {},
   "source": [
    "## Reference\n",
    "https://stackoverflow.com/questions/14325654/how-to-use-python-markdown-to-process-a-file-that-is-read-in\n",
    "https://stackoverflow.com/questions/3207219/how-do-i-list-all-files-of-a-directory\n",
    "https://stackoverflow.com/questions/14560863/python-join-with-newline\n",
    "https://stackoverflow.com/questions/743806/how-to-split-a-string-into-a-list\n",
    "https://stackabuse.com/reading-and-writing-lists-to-a-file-in-python/\n",
    "https://stackoverflow.com/questions/6996603/delete-a-file-or-folder\n",
    "https://stackoverflow.com/questions/5214578/python-print-string-to-text-file\n",
    "https://stackoverflow.com/questions/89228/calling-an-external-command-in-python"
   ]
  },
  {
   "cell_type": "code",
   "execution_count": 1,
   "metadata": {},
   "outputs": [],
   "source": [
    "import os #to run commands in command prompt in python\n",
    "import glob # to get paths to files in a folder\n",
    "import shutil #copy files"
   ]
  },
  {
   "cell_type": "code",
   "execution_count": 2,
   "metadata": {},
   "outputs": [],
   "source": [
    "def create_dir(directory):\n",
    "    if not os.path.exists(directory):\n",
    "        print('Creating Directory '+directory)\n",
    "        os.makedirs(directory)"
   ]
  },
  {
   "cell_type": "markdown",
   "metadata": {},
   "source": [
    "folder structure\n",
    "\n",
    "clean_md_file.ipynb\n",
    "project_03_01.ipynb\n",
    "data>>\n",
    "git_page>>project_03_01.md\n",
    "git_page>>images>>movie_data_eda>>"
   ]
  },
  {
   "cell_type": "code",
   "execution_count": 3,
   "metadata": {},
   "outputs": [
    {
     "name": "stdout",
     "output_type": "stream",
     "text": [
      "act_report_v2_0.ipynb\n",
      "data_analyst_nanodegree_term_02_project_03_act_report_v2_0.md\n",
      "data_analyst_nanodegree_term_02_project_03_act_report_v2_0_files\n",
      "data_analyst_nanodegree_term_02_project_03_act_report_v2_0\n"
     ]
    }
   ],
   "source": [
    "#inputs\n",
    "#enter the ipython notebook name\n",
    "#notebook_name='project_03_01.ipynb'\n",
    "#markdown_name='project_03_01.md'\n",
    "#images_folder_name=markdown_name.replace('.md','')+'_files' #remove the .md and add _files\n",
    "#subfolder_name='project_03_01' # images/'subfolder_name'/ -- this will contain all images\n",
    "\n",
    "#data_analyst_nanodegree_term_02_project_01_perceptual_phenomenon_python_004\n",
    "#data_analyst_nanodegree_term_02_project_03_act_report_v2_0\n",
    "notebook_name='act_report_v2_0.ipynb'\n",
    "markdown_name='data_analyst_nanodegree_term_02_project_03_act_report_v2_0.md'\n",
    "images_folder_name=markdown_name.replace('.md','')+'_files' #remove the .md and add _files\n",
    "subfolder_name='data_analyst_nanodegree_term_02_project_03_act_report_v2_0' # images/'subfolder_name'/ -- this will contain all images\n",
    "\n",
    "\n",
    "\n",
    "\n",
    "print(notebook_name) # name of jupyter notebook\n",
    "print(markdown_name) #md file made during jupyter to md conversion, moved to git_page folder and deleted from root\n",
    "print(images_folder_name) #default folder made when generating md file - later deleted\n",
    "print(subfolder_name) #name of the subfolder inside images subfolder"
   ]
  },
  {
   "cell_type": "code",
   "execution_count": 4,
   "metadata": {},
   "outputs": [
    {
     "name": "stdout",
     "output_type": "stream",
     "text": [
      "Creating Directory git_page/images/data_analyst_nanodegree_term_02_project_03_act_report_v2_0\n"
     ]
    }
   ],
   "source": [
    "#create the directory structure\n",
    "create_dir('git_page/images/'+subfolder_name) #subfolder for all project images"
   ]
  },
  {
   "cell_type": "code",
   "execution_count": 5,
   "metadata": {},
   "outputs": [
    {
     "name": "stdout",
     "output_type": "stream",
     "text": [
      "jupyter nbconvert act_report_v2_0.ipynb --to markdown --output data_analyst_nanodegree_term_02_project_03_act_report_v2_0.md\n"
     ]
    }
   ],
   "source": [
    "#!jupyter nbconvert project_03_01.ipynb --to markdown --output test.md\n",
    "## first create a string using the notebook name and markdown name\n",
    "string_01='jupyter nbconvert '+ notebook_name + ' --to markdown --output '+ markdown_name\n",
    "#string_01='jupyter nbconvert '+ notebook_name + ' --to markdown' \n",
    "\n",
    "print(string_01)"
   ]
  },
  {
   "cell_type": "code",
   "execution_count": 6,
   "metadata": {},
   "outputs": [
    {
     "data": {
      "text/plain": [
       "0"
      ]
     },
     "execution_count": 6,
     "metadata": {},
     "output_type": "execute_result"
    }
   ],
   "source": [
    "#run the string_01 in command prompt to generate the markdown files\n",
    "os.system(string_01)"
   ]
  },
  {
   "cell_type": "code",
   "execution_count": 7,
   "metadata": {},
   "outputs": [
    {
     "data": {
      "text/plain": [
       "['data_analyst_nanodegree_term_02_project_03_act_report_v2_0_files\\\\data_analyst_nanodegree_term_02_project_03_act_report_v2_0_12_0.png',\n",
       " 'data_analyst_nanodegree_term_02_project_03_act_report_v2_0_files\\\\data_analyst_nanodegree_term_02_project_03_act_report_v2_0_17_1.png',\n",
       " 'data_analyst_nanodegree_term_02_project_03_act_report_v2_0_files\\\\data_analyst_nanodegree_term_02_project_03_act_report_v2_0_8_0.png']"
      ]
     },
     "execution_count": 7,
     "metadata": {},
     "output_type": "execute_result"
    }
   ],
   "source": [
    "#get a list of only image names in sub directory\n",
    "#image_links = [f for f in glob.glob(\"markdown\\*.png\")]\n",
    "\n",
    "images_path=images_folder_name+'\\*.png'\n",
    "image_links = [f for f in glob.glob(images_path)]\n",
    "\n",
    "image_links"
   ]
  },
  {
   "cell_type": "code",
   "execution_count": null,
   "metadata": {},
   "outputs": [],
   "source": []
  },
  {
   "cell_type": "code",
   "execution_count": 8,
   "metadata": {},
   "outputs": [
    {
     "data": {
      "text/plain": [
       "['data_analyst_nanodegree_term_02_project_03_act_report_v2_0_12_0.png',\n",
       " 'data_analyst_nanodegree_term_02_project_03_act_report_v2_0_17_1.png',\n",
       " 'data_analyst_nanodegree_term_02_project_03_act_report_v2_0_8_0.png']"
      ]
     },
     "execution_count": 8,
     "metadata": {},
     "output_type": "execute_result"
    }
   ],
   "source": [
    "#from the image_links, only save the image names\n",
    "#save just the image names to a list\n",
    "image_names=[]\n",
    "for i in image_links:\n",
    "    #image_names.append(i.replace('markdown\\\\',''))\n",
    "    image_names.append(i.replace(images_folder_name+'\\\\',''))\n",
    "    \n",
    "image_names"
   ]
  },
  {
   "cell_type": "code",
   "execution_count": 9,
   "metadata": {},
   "outputs": [
    {
     "data": {
      "text/plain": [
       "['<!â€“â€“ The codes in this cell will add a toggle button to show/hide jupyter codes in web browser  â€“â€“>\\n',\n",
       " '<!â€“â€“ Source: https://stackoverflow.com/questions/27934885/how-to-hide-code-from-cells-in-ipython-notebook-visualized-with-nbviewer  â€“â€“>\\n',\n",
       " '\\n',\n",
       " '<script>\\n',\n",
       " '  function code_toggle() {\\n',\n",
       " '    if (code_shown){\\n',\n",
       " \"      $('div.input').hide('500');\\n\",\n",
       " \"      $('#toggleButton').val('Show Code')\\n\",\n",
       " '    } else {\\n',\n",
       " \"      $('div.input').show('500');\\n\",\n",
       " \"      $('#toggleButton').val('Hide Code')\\n\",\n",
       " '    }\\n',\n",
       " '    code_shown = !code_shown\\n',\n",
       " '  }\\n',\n",
       " '\\n',\n",
       " '  $( document ).ready(function(){\\n',\n",
       " '    code_shown=false;\\n',\n",
       " \"    $('div.input').hide()\\n\",\n",
       " '  });\\n',\n",
       " '</script>\\n',\n",
       " '<form action=\"javascript:code_toggle()\">\\n',\n",
       " '  <input type=\"submit\" id=\"toggleButton\" value=\"Show Code\">\\n',\n",
       " '</form>\\n',\n",
       " '# Act Report\\n',\n",
       " '\\n',\n",
       " 'Explored the cleaned data to gain insights on the following questions: \\n',\n",
       " '\\n',\n",
       " '1. Is the tweet that received the most favorites count also the tweet that was retweeted most?\\n',\n",
       " '2. What day of the week were most of the tweets created? \\n',\n",
       " '3. What are some of the common words used in the top tweets?\\n',\n",
       " '\\n',\n",
       " '# Reference\\n',\n",
       " '\\n',\n",
       " 'https://pandas.pydata.org/pandas-docs/version/0.23/generated/pandas.DataFrame.plot.bar.html  \\n',\n",
       " 'https://stackoverflow.com/questions/16645799/how-to-create-a-word-cloud-from-a-corpus-in-python  \\n',\n",
       " 'https://stackoverflow.com/questions/27934885/how-to-hide-code-from-cells-in-ipython-notebook-visualized-with-nbviewer  \\n',\n",
       " '\\n',\n",
       " '\\n',\n",
       " '```python\\n',\n",
       " '# Import libraries\\n',\n",
       " 'import pandas as pd\\n',\n",
       " 'import numpy as np\\n',\n",
       " 'import matplotlib as mpl\\n',\n",
       " 'import matplotlib.pyplot as plt\\n',\n",
       " 'import seaborn as sns\\n',\n",
       " 'from wordcloud import WordCloud, STOPWORDS \\n',\n",
       " 'sns.set(style=\"whitegrid\", color_codes=True)\\n',\n",
       " '```\\n',\n",
       " '\\n',\n",
       " '\\n',\n",
       " '```python\\n',\n",
       " '# Source: https://stackoverflow.com/questions/16645799/how-to-create-a-word-cloud-from-a-corpus-in-python\\n',\n",
       " 'stopwords = set(STOPWORDS)  # set the stop words\\n',\n",
       " '\\n',\n",
       " 'def show_wordcloud(data, title = None):\\n',\n",
       " '    wordcloud = WordCloud(\\n',\n",
       " \"        background_color='white',\\n\",\n",
       " '        stopwords=stopwords,\\n',\n",
       " '        max_words=200,\\n',\n",
       " '        max_font_size=40, \\n',\n",
       " '        scale=3,\\n',\n",
       " '        random_state=1 # chosen at random by flipping a coin; it was heads\\n',\n",
       " '    ).generate(str(data))\\n',\n",
       " '\\n',\n",
       " '    fig = plt.figure(1, figsize=(12, 12))\\n',\n",
       " \"    plt.axis('off')\\n\",\n",
       " '    if title: \\n',\n",
       " '        fig.suptitle(title, fontsize=20)\\n',\n",
       " '        fig.subplots_adjust(top=2.3)\\n',\n",
       " '\\n',\n",
       " '    plt.imshow(wordcloud)\\n',\n",
       " '    plt.show()\\n',\n",
       " '```\\n',\n",
       " '\\n',\n",
       " '\\n',\n",
       " '```python\\n',\n",
       " '# read the main tweet dataset csv\\n',\n",
       " \"df_main=pd.read_csv('main_twitter_dataset.csv')\\n\",\n",
       " '```\\n',\n",
       " '\\n',\n",
       " '# Question 1: Is the tweet that received the most favorites count also the tweet that was retweeted most?\\n',\n",
       " '\\n',\n",
       " '\\n',\n",
       " '```python\\n',\n",
       " \"tmp=df_main.sort_values(by=['favorite_count','retweet_count'],\\n\",\n",
       " \"                        ascending=False)[['tweet_id','favorite_count','retweet_count']].head(10)\\n\",\n",
       " '\\n',\n",
       " \"print('Table of Tweet IDs with the top 10 favorites count and retweets count')\\n\",\n",
       " '\\n',\n",
       " 'tmp\\n',\n",
       " '```\\n',\n",
       " '\\n',\n",
       " '    Table of Tweet IDs with the top 10 favorites count and retweets count\\n',\n",
       " '    \\n',\n",
       " '\\n',\n",
       " '\\n',\n",
       " '\\n',\n",
       " '\\n',\n",
       " '<div>\\n',\n",
       " '<style scoped>\\n',\n",
       " '    .dataframe tbody tr th:only-of-type {\\n',\n",
       " '        vertical-align: middle;\\n',\n",
       " '    }\\n',\n",
       " '\\n',\n",
       " '    .dataframe tbody tr th {\\n',\n",
       " '        vertical-align: top;\\n',\n",
       " '    }\\n',\n",
       " '\\n',\n",
       " '    .dataframe thead th {\\n',\n",
       " '        text-align: right;\\n',\n",
       " '    }\\n',\n",
       " '</style>\\n',\n",
       " '<table border=\"1\" class=\"dataframe\">\\n',\n",
       " '  <thead>\\n',\n",
       " '    <tr style=\"text-align: right;\">\\n',\n",
       " '      <th></th>\\n',\n",
       " '      <th>tweet_id</th>\\n',\n",
       " '      <th>favorite_count</th>\\n',\n",
       " '      <th>retweet_count</th>\\n',\n",
       " '    </tr>\\n',\n",
       " '  </thead>\\n',\n",
       " '  <tbody>\\n',\n",
       " '    <tr>\\n',\n",
       " '      <th>872</th>\\n',\n",
       " '      <td>744234799360020481</td>\\n',\n",
       " '      <td>162143.0</td>\\n',\n",
       " '      <td>84152.0</td>\\n',\n",
       " '    </tr>\\n',\n",
       " '    <tr>\\n',\n",
       " '      <th>350</th>\\n',\n",
       " '      <td>822872901745569793</td>\\n',\n",
       " '      <td>142138.0</td>\\n',\n",
       " '      <td>48561.0</td>\\n',\n",
       " '    </tr>\\n',\n",
       " '    <tr>\\n',\n",
       " '      <th>119</th>\\n',\n",
       " '      <td>866450705531457537</td>\\n',\n",
       " '      <td>123352.0</td>\\n',\n",
       " '      <td>36023.0</td>\\n',\n",
       " '    </tr>\\n',\n",
       " '    <tr>\\n',\n",
       " '      <th>449</th>\\n',\n",
       " '      <td>807106840509214720</td>\\n',\n",
       " '      <td>121999.0</td>\\n',\n",
       " '      <td>60430.0</td>\\n',\n",
       " '    </tr>\\n',\n",
       " '    <tr>\\n',\n",
       " '      <th>912</th>\\n',\n",
       " '      <td>739238157791694849</td>\\n',\n",
       " '      <td>121443.0</td>\\n',\n",
       " '      <td>62781.0</td>\\n',\n",
       " '    </tr>\\n',\n",
       " '    <tr>\\n',\n",
       " '      <th>63</th>\\n',\n",
       " '      <td>879415818425184262</td>\\n',\n",
       " '      <td>105136.0</td>\\n',\n",
       " '      <td>44023.0</td>\\n',\n",
       " '    </tr>\\n',\n",
       " '    <tr>\\n',\n",
       " '      <th>376</th>\\n',\n",
       " '      <td>819004803107983360</td>\\n',\n",
       " '      <td>92986.0</td>\\n',\n",
       " '      <td>40642.0</td>\\n',\n",
       " '    </tr>\\n',\n",
       " '    <tr>\\n',\n",
       " '      <th>147</th>\\n',\n",
       " '      <td>859196978902773760</td>\\n',\n",
       " '      <td>91694.0</td>\\n',\n",
       " '      <td>31340.0</td>\\n',\n",
       " '    </tr>\\n',\n",
       " '    <tr>\\n',\n",
       " '      <th>103</th>\\n',\n",
       " '      <td>870374049280663552</td>\\n',\n",
       " '      <td>82744.0</td>\\n',\n",
       " '      <td>26514.0</td>\\n',\n",
       " '    </tr>\\n',\n",
       " '    <tr>\\n',\n",
       " '      <th>451</th>\\n',\n",
       " '      <td>806629075125202948</td>\\n',\n",
       " '      <td>81404.0</td>\\n',\n",
       " '      <td>38968.0</td>\\n',\n",
       " '    </tr>\\n',\n",
       " '  </tbody>\\n',\n",
       " '</table>\\n',\n",
       " '</div>\\n',\n",
       " '\\n',\n",
       " '\\n',\n",
       " '\\n',\n",
       " '\\n',\n",
       " '```python\\n',\n",
       " \"ax=tmp.plot.bar(x='tweet_id',rot=0,subplots=False,figsize=(10,5))\\n\",\n",
       " 'ax.set_xticklabels(ax.get_xticklabels(),rotation=90,fontsize=15)\\n',\n",
       " 'ax.set_title(\"Graph of Top Tweets Favorite\\'s Count and Retweet Count\", fontsize=20);\\n',\n",
       " '```\\n',\n",
       " '\\n',\n",
       " '\\n',\n",
       " '![png](data_analyst_nanodegree_term_02_project_03_act_report_v2_0_files/data_analyst_nanodegree_term_02_project_03_act_report_v2_0_8_0.png)\\n',\n",
       " '\\n',\n",
       " '\\n',\n",
       " \"From the graph above it can be seen that the tweet that received the most favorite's count was not the tweet that was retweeted \\n\",\n",
       " 'most.\\n',\n",
       " '\\n',\n",
       " 'Tweet corresponding to the tweet id 822872901745569793 received the highest favorites count while tweet corresponding to tweet id 744234799360020481 received the highest retweet count. \\n',\n",
       " '\\n',\n",
       " 'It can also be observed that the top 10 tweets:\\n',\n",
       " '1. Favorites count was more than 80,000\\n',\n",
       " '2. Retweets count was more than 20,000\\n',\n",
       " '\\n',\n",
       " '# Question 2: What day of the week were most of the tweets created? \\n',\n",
       " '\\n',\n",
       " '\\n',\n",
       " '```python\\n',\n",
       " 'tmp=df_main.groupby(\\'timestamp_weekday\\').size().reset_index(name = \"Number of Tweets\")\\n',\n",
       " '\\n',\n",
       " \"print('Table of number of Tweets by weekday')\\n\",\n",
       " '\\n',\n",
       " 'tmp\\n',\n",
       " '```\\n',\n",
       " '\\n',\n",
       " '    Table of number of Tweets by weekday\\n',\n",
       " '    \\n',\n",
       " '\\n',\n",
       " '\\n',\n",
       " '\\n',\n",
       " '\\n',\n",
       " '<div>\\n',\n",
       " '<style scoped>\\n',\n",
       " '    .dataframe tbody tr th:only-of-type {\\n',\n",
       " '        vertical-align: middle;\\n',\n",
       " '    }\\n',\n",
       " '\\n',\n",
       " '    .dataframe tbody tr th {\\n',\n",
       " '        vertical-align: top;\\n',\n",
       " '    }\\n',\n",
       " '\\n',\n",
       " '    .dataframe thead th {\\n',\n",
       " '        text-align: right;\\n',\n",
       " '    }\\n',\n",
       " '</style>\\n',\n",
       " '<table border=\"1\" class=\"dataframe\">\\n',\n",
       " '  <thead>\\n',\n",
       " '    <tr style=\"text-align: right;\">\\n',\n",
       " '      <th></th>\\n',\n",
       " '      <th>timestamp_weekday</th>\\n',\n",
       " '      <th>Number of Tweets</th>\\n',\n",
       " '    </tr>\\n',\n",
       " '  </thead>\\n',\n",
       " '  <tbody>\\n',\n",
       " '    <tr>\\n',\n",
       " '      <th>0</th>\\n',\n",
       " '      <td>0</td>\\n',\n",
       " '      <td>359</td>\\n',\n",
       " '    </tr>\\n',\n",
       " '    <tr>\\n',\n",
       " '      <th>1</th>\\n',\n",
       " '      <td>1</td>\\n',\n",
       " '      <td>328</td>\\n',\n",
       " '    </tr>\\n',\n",
       " '    <tr>\\n',\n",
       " '      <th>2</th>\\n',\n",
       " '      <td>2</td>\\n',\n",
       " '      <td>322</td>\\n',\n",
       " '    </tr>\\n',\n",
       " '    <tr>\\n',\n",
       " '      <th>3</th>\\n',\n",
       " '      <td>3</td>\\n',\n",
       " '      <td>307</td>\\n',\n",
       " '    </tr>\\n',\n",
       " '    <tr>\\n',\n",
       " '      <th>4</th>\\n',\n",
       " '      <td>4</td>\\n',\n",
       " '      <td>307</td>\\n',\n",
       " '    </tr>\\n',\n",
       " '    <tr>\\n',\n",
       " '      <th>5</th>\\n',\n",
       " '      <td>5</td>\\n',\n",
       " '      <td>287</td>\\n',\n",
       " '    </tr>\\n',\n",
       " '    <tr>\\n',\n",
       " '      <th>6</th>\\n',\n",
       " '      <td>6</td>\\n',\n",
       " '      <td>277</td>\\n',\n",
       " '    </tr>\\n',\n",
       " '  </tbody>\\n',\n",
       " '</table>\\n',\n",
       " '</div>\\n',\n",
       " '\\n',\n",
       " '\\n',\n",
       " '\\n',\n",
       " '\\n',\n",
       " '```python\\n',\n",
       " '# create a dictionary for mapping\\n',\n",
       " \"di_day = {'0':'Monday','1':'Tuesday','2':'Wednesday','3':'Thursday','4':'Friday','5':'Saturday','6':'Sunday'}\\n\",\n",
       " '\\n',\n",
       " '# map the dictionary \\n',\n",
       " \"tmp['timestamp_weekday']=tmp['timestamp_weekday'].astype(str).replace(di_day)\\n\",\n",
       " '\\n',\n",
       " '# plot the barplot\\n',\n",
       " \"ax=tmp.plot.bar(x='timestamp_weekday',rot=0,subplots=False,figsize=(10,5))\\n\",\n",
       " 'ax.set_title(\"Graph of Total Tweets by Day\", fontsize=20);\\n',\n",
       " '```\\n',\n",
       " '\\n',\n",
       " '\\n',\n",
       " '![png](data_analyst_nanodegree_term_02_project_03_act_report_v2_0_files/data_analyst_nanodegree_term_02_project_03_act_report_v2_0_12_0.png)\\n',\n",
       " '\\n',\n",
       " '\\n',\n",
       " 'From the above graph it can be observed that the highest number of tweets were created on Monday. It is interesting to note that the number of tweets tapered down towards the weekend.  \\n',\n",
       " '\\n',\n",
       " '\\n',\n",
       " '```python\\n',\n",
       " '\\n',\n",
       " '```\\n',\n",
       " '\\n',\n",
       " '# Question 3: What are some of the common words used in the top tweets?\\n',\n",
       " '\\n',\n",
       " '\\n',\n",
       " '```python\\n',\n",
       " '# extract the top tweets\\n',\n",
       " \"tmp=df_main.sort_values(by=['favorite_count'],ascending=False)[['text']].head(10)\\n\",\n",
       " '\\n',\n",
       " \"print('<<Below are text corresponding to the top 10 tweets that received the most favorites count>> \\\\n')\\n\",\n",
       " '\\n',\n",
       " '#view the top tweets\\n',\n",
       " \"for i in tmp['text']:\\n\",\n",
       " '    print(i)\\n',\n",
       " '```\\n',\n",
       " '\\n',\n",
       " '    <<Below are text corresponding to the top 10 tweets that received the most favorites count>> \\n',\n",
       " '    \\n',\n",
       " \"    Here's a doggo realizing you can stand in a pool. 13/10 enlightened af (vid by Tina Conrad) https://t.co/7wE9LTEXC4\\n\",\n",
       " \"    Here's a super supportive puppo participating in the Toronto  #WomensMarch today. 13/10 https://t.co/nTz3FtorBc\\n\",\n",
       " '    This is Jamesy. He gives a kiss to every other pupper he sees on his walk. 13/10 such passion, much tender https://t.co/wk7TfysWHr\\n',\n",
       " '    This is Stephan. He just wants to help. 13/10 such a good boy https://t.co/DkBYaCAg2d\\n',\n",
       " \"    Here's a doggo blowing bubbles. It's downright legendary. 13/10 would watch on repeat forever (vid by Kent Duryee) https://t.co/YcXgHfp1EC\\n\",\n",
       " '    This is Duddles. He did an attempt. 13/10 someone help him (vid by Georgia Felici) https://t.co/UDT7ZkcTgY\\n',\n",
       " '    This is Bo. He was a very good First Doggo. 14/10 would be an absolute honor to pet https://t.co/AdPKrI8BZ1\\n',\n",
       " \"    We only rate dogs. This is quite clearly a smol broken polar bear. We'd appreciate if you only send dogs. Thank you... 12/10 https://t.co/g2nSyGenG9\\n\",\n",
       " '    This is Zoey. She really likes the planet. Would hate to see willful ignorance and the denial of fairly elemental science destroy it. 13/10 https://t.co/T1xlgaPujm\\n',\n",
       " '    \"Good afternoon class today we\\'re going to learn what makes a good boy so good\" 13/10 https://t.co/f1h2Fsalv9\\n',\n",
       " '    \\n',\n",
       " '\\n',\n",
       " '\\n',\n",
       " '```python\\n',\n",
       " \"print('Word cloud of some of the common words in top 10 tweets that received the most favorites count' )\\n\",\n",
       " \"show_wordcloud(tmp['text'])\\n\",\n",
       " '```\\n',\n",
       " '\\n',\n",
       " '    Word cloud of some of the common words in top 10 tweets that received the most favorites count\\n',\n",
       " '    \\n',\n",
       " '\\n',\n",
       " '\\n',\n",
       " '![png](data_analyst_nanodegree_term_02_project_03_act_report_v2_0_files/data_analyst_nanodegree_term_02_project_03_act_report_v2_0_17_1.png)\\n',\n",
       " '\\n',\n",
       " '\\n',\n",
       " 'From the word cloud, it can be observed that the top 10 tweets contained some interesting text such as:  \\n',\n",
       " 'help, stand, kiss, participating, supportive, gives, wants, quite.\\n',\n",
       " '\\n',\n",
       " '\\n',\n",
       " '```python\\n',\n",
       " '\\n',\n",
       " '```\\n']"
      ]
     },
     "execution_count": 9,
     "metadata": {},
     "output_type": "execute_result"
    }
   ],
   "source": [
    "# Open the file with read only permit\n",
    "f = open(markdown_name, \"r\")\n",
    "# use readlines to read all lines in the file\n",
    "# The variable \"lines\" is a list containing all lines in the file\n",
    "lines = f.readlines()\n",
    "# close the file after reading the lines.\n",
    "f.close()\n",
    "\n",
    "lines"
   ]
  },
  {
   "cell_type": "code",
   "execution_count": 10,
   "metadata": {},
   "outputs": [],
   "source": [
    "#lines"
   ]
  },
  {
   "cell_type": "code",
   "execution_count": 11,
   "metadata": {},
   "outputs": [],
   "source": [
    "#join the all the element sin lines list witn @@@ at the end of each line to perform operations\n",
    "content_joined=\"@@@\".join(lines)\n",
    "\n",
    "#use this below to split at @@@ and then save it to a md file\n",
    "#content_joined.split('@@@')"
   ]
  },
  {
   "cell_type": "code",
   "execution_count": 12,
   "metadata": {},
   "outputs": [
    {
     "data": {
      "text/plain": [
       "'<!â€“â€“ The codes in this cell will add a toggle button to show/hide jupyter codes in web browser  â€“â€“>\\n@@@<!â€“â€“ Source: https://stackoverflow.com/questions/27934885/how-to-hide-code-from-cells-in-ipython-notebook-visualized-with-nbviewer  â€“â€“>\\n@@@\\n@@@<script>\\n@@@  function code_toggle() {\\n@@@    if (code_shown){\\n@@@      $(\\'div.input\\').hide(\\'500\\');\\n@@@      $(\\'#toggleButton\\').val(\\'Show Code\\')\\n@@@    } else {\\n@@@      $(\\'div.input\\').show(\\'500\\');\\n@@@      $(\\'#toggleButton\\').val(\\'Hide Code\\')\\n@@@    }\\n@@@    code_shown = !code_shown\\n@@@  }\\n@@@\\n@@@  $( document ).ready(function(){\\n@@@    code_shown=false;\\n@@@    $(\\'div.input\\').hide()\\n@@@  });\\n@@@</script>\\n@@@<form action=\"javascript:code_toggle()\">\\n@@@  <input type=\"submit\" id=\"toggleButton\" value=\"Show Code\">\\n@@@</form>\\n@@@# Act Report\\n@@@\\n@@@Explored the cleaned data to gain insights on the following questions: \\n@@@\\n@@@1. Is the tweet that received the most favorites count also the tweet that was retweeted most?\\n@@@2. What day of the week were most of the tweets created? \\n@@@3. What are some of the common words used in the top tweets?\\n@@@\\n@@@# Reference\\n@@@\\n@@@https://pandas.pydata.org/pandas-docs/version/0.23/generated/pandas.DataFrame.plot.bar.html  \\n@@@https://stackoverflow.com/questions/16645799/how-to-create-a-word-cloud-from-a-corpus-in-python  \\n@@@https://stackoverflow.com/questions/27934885/how-to-hide-code-from-cells-in-ipython-notebook-visualized-with-nbviewer  \\n@@@\\n@@@\\n@@@```python\\n@@@# Import libraries\\n@@@import pandas as pd\\n@@@import numpy as np\\n@@@import matplotlib as mpl\\n@@@import matplotlib.pyplot as plt\\n@@@import seaborn as sns\\n@@@from wordcloud import WordCloud, STOPWORDS \\n@@@sns.set(style=\"whitegrid\", color_codes=True)\\n@@@```\\n@@@\\n@@@\\n@@@```python\\n@@@# Source: https://stackoverflow.com/questions/16645799/how-to-create-a-word-cloud-from-a-corpus-in-python\\n@@@stopwords = set(STOPWORDS)  # set the stop words\\n@@@\\n@@@def show_wordcloud(data, title = None):\\n@@@    wordcloud = WordCloud(\\n@@@        background_color=\\'white\\',\\n@@@        stopwords=stopwords,\\n@@@        max_words=200,\\n@@@        max_font_size=40, \\n@@@        scale=3,\\n@@@        random_state=1 # chosen at random by flipping a coin; it was heads\\n@@@    ).generate(str(data))\\n@@@\\n@@@    fig = plt.figure(1, figsize=(12, 12))\\n@@@    plt.axis(\\'off\\')\\n@@@    if title: \\n@@@        fig.suptitle(title, fontsize=20)\\n@@@        fig.subplots_adjust(top=2.3)\\n@@@\\n@@@    plt.imshow(wordcloud)\\n@@@    plt.show()\\n@@@```\\n@@@\\n@@@\\n@@@```python\\n@@@# read the main tweet dataset csv\\n@@@df_main=pd.read_csv(\\'main_twitter_dataset.csv\\')\\n@@@```\\n@@@\\n@@@# Question 1: Is the tweet that received the most favorites count also the tweet that was retweeted most?\\n@@@\\n@@@\\n@@@```python\\n@@@tmp=df_main.sort_values(by=[\\'favorite_count\\',\\'retweet_count\\'],\\n@@@                        ascending=False)[[\\'tweet_id\\',\\'favorite_count\\',\\'retweet_count\\']].head(10)\\n@@@\\n@@@print(\\'Table of Tweet IDs with the top 10 favorites count and retweets count\\')\\n@@@\\n@@@tmp\\n@@@```\\n@@@\\n@@@    Table of Tweet IDs with the top 10 favorites count and retweets count\\n@@@    \\n@@@\\n@@@\\n@@@\\n@@@\\n@@@<div>\\n@@@<style scoped>\\n@@@    .dataframe tbody tr th:only-of-type {\\n@@@        vertical-align: middle;\\n@@@    }\\n@@@\\n@@@    .dataframe tbody tr th {\\n@@@        vertical-align: top;\\n@@@    }\\n@@@\\n@@@    .dataframe thead th {\\n@@@        text-align: right;\\n@@@    }\\n@@@</style>\\n@@@<table border=\"1\" class=\"dataframe\">\\n@@@  <thead>\\n@@@    <tr style=\"text-align: right;\">\\n@@@      <th></th>\\n@@@      <th>tweet_id</th>\\n@@@      <th>favorite_count</th>\\n@@@      <th>retweet_count</th>\\n@@@    </tr>\\n@@@  </thead>\\n@@@  <tbody>\\n@@@    <tr>\\n@@@      <th>872</th>\\n@@@      <td>744234799360020481</td>\\n@@@      <td>162143.0</td>\\n@@@      <td>84152.0</td>\\n@@@    </tr>\\n@@@    <tr>\\n@@@      <th>350</th>\\n@@@      <td>822872901745569793</td>\\n@@@      <td>142138.0</td>\\n@@@      <td>48561.0</td>\\n@@@    </tr>\\n@@@    <tr>\\n@@@      <th>119</th>\\n@@@      <td>866450705531457537</td>\\n@@@      <td>123352.0</td>\\n@@@      <td>36023.0</td>\\n@@@    </tr>\\n@@@    <tr>\\n@@@      <th>449</th>\\n@@@      <td>807106840509214720</td>\\n@@@      <td>121999.0</td>\\n@@@      <td>60430.0</td>\\n@@@    </tr>\\n@@@    <tr>\\n@@@      <th>912</th>\\n@@@      <td>739238157791694849</td>\\n@@@      <td>121443.0</td>\\n@@@      <td>62781.0</td>\\n@@@    </tr>\\n@@@    <tr>\\n@@@      <th>63</th>\\n@@@      <td>879415818425184262</td>\\n@@@      <td>105136.0</td>\\n@@@      <td>44023.0</td>\\n@@@    </tr>\\n@@@    <tr>\\n@@@      <th>376</th>\\n@@@      <td>819004803107983360</td>\\n@@@      <td>92986.0</td>\\n@@@      <td>40642.0</td>\\n@@@    </tr>\\n@@@    <tr>\\n@@@      <th>147</th>\\n@@@      <td>859196978902773760</td>\\n@@@      <td>91694.0</td>\\n@@@      <td>31340.0</td>\\n@@@    </tr>\\n@@@    <tr>\\n@@@      <th>103</th>\\n@@@      <td>870374049280663552</td>\\n@@@      <td>82744.0</td>\\n@@@      <td>26514.0</td>\\n@@@    </tr>\\n@@@    <tr>\\n@@@      <th>451</th>\\n@@@      <td>806629075125202948</td>\\n@@@      <td>81404.0</td>\\n@@@      <td>38968.0</td>\\n@@@    </tr>\\n@@@  </tbody>\\n@@@</table>\\n@@@</div>\\n@@@\\n@@@\\n@@@\\n@@@\\n@@@```python\\n@@@ax=tmp.plot.bar(x=\\'tweet_id\\',rot=0,subplots=False,figsize=(10,5))\\n@@@ax.set_xticklabels(ax.get_xticklabels(),rotation=90,fontsize=15)\\n@@@ax.set_title(\"Graph of Top Tweets Favorite\\'s Count and Retweet Count\", fontsize=20);\\n@@@```\\n@@@\\n@@@\\n@@@![png](data_analyst_nanodegree_term_02_project_03_act_report_v2_0_files/data_analyst_nanodegree_term_02_project_03_act_report_v2_0_8_0.png)\\n@@@\\n@@@\\n@@@From the graph above it can be seen that the tweet that received the most favorite\\'s count was not the tweet that was retweeted \\n@@@most.\\n@@@\\n@@@Tweet corresponding to the tweet id 822872901745569793 received the highest favorites count while tweet corresponding to tweet id 744234799360020481 received the highest retweet count. \\n@@@\\n@@@It can also be observed that the top 10 tweets:\\n@@@1. Favorites count was more than 80,000\\n@@@2. Retweets count was more than 20,000\\n@@@\\n@@@# Question 2: What day of the week were most of the tweets created? \\n@@@\\n@@@\\n@@@```python\\n@@@tmp=df_main.groupby(\\'timestamp_weekday\\').size().reset_index(name = \"Number of Tweets\")\\n@@@\\n@@@print(\\'Table of number of Tweets by weekday\\')\\n@@@\\n@@@tmp\\n@@@```\\n@@@\\n@@@    Table of number of Tweets by weekday\\n@@@    \\n@@@\\n@@@\\n@@@\\n@@@\\n@@@<div>\\n@@@<style scoped>\\n@@@    .dataframe tbody tr th:only-of-type {\\n@@@        vertical-align: middle;\\n@@@    }\\n@@@\\n@@@    .dataframe tbody tr th {\\n@@@        vertical-align: top;\\n@@@    }\\n@@@\\n@@@    .dataframe thead th {\\n@@@        text-align: right;\\n@@@    }\\n@@@</style>\\n@@@<table border=\"1\" class=\"dataframe\">\\n@@@  <thead>\\n@@@    <tr style=\"text-align: right;\">\\n@@@      <th></th>\\n@@@      <th>timestamp_weekday</th>\\n@@@      <th>Number of Tweets</th>\\n@@@    </tr>\\n@@@  </thead>\\n@@@  <tbody>\\n@@@    <tr>\\n@@@      <th>0</th>\\n@@@      <td>0</td>\\n@@@      <td>359</td>\\n@@@    </tr>\\n@@@    <tr>\\n@@@      <th>1</th>\\n@@@      <td>1</td>\\n@@@      <td>328</td>\\n@@@    </tr>\\n@@@    <tr>\\n@@@      <th>2</th>\\n@@@      <td>2</td>\\n@@@      <td>322</td>\\n@@@    </tr>\\n@@@    <tr>\\n@@@      <th>3</th>\\n@@@      <td>3</td>\\n@@@      <td>307</td>\\n@@@    </tr>\\n@@@    <tr>\\n@@@      <th>4</th>\\n@@@      <td>4</td>\\n@@@      <td>307</td>\\n@@@    </tr>\\n@@@    <tr>\\n@@@      <th>5</th>\\n@@@      <td>5</td>\\n@@@      <td>287</td>\\n@@@    </tr>\\n@@@    <tr>\\n@@@      <th>6</th>\\n@@@      <td>6</td>\\n@@@      <td>277</td>\\n@@@    </tr>\\n@@@  </tbody>\\n@@@</table>\\n@@@</div>\\n@@@\\n@@@\\n@@@\\n@@@\\n@@@```python\\n@@@# create a dictionary for mapping\\n@@@di_day = {\\'0\\':\\'Monday\\',\\'1\\':\\'Tuesday\\',\\'2\\':\\'Wednesday\\',\\'3\\':\\'Thursday\\',\\'4\\':\\'Friday\\',\\'5\\':\\'Saturday\\',\\'6\\':\\'Sunday\\'}\\n@@@\\n@@@# map the dictionary \\n@@@tmp[\\'timestamp_weekday\\']=tmp[\\'timestamp_weekday\\'].astype(str).replace(di_day)\\n@@@\\n@@@# plot the barplot\\n@@@ax=tmp.plot.bar(x=\\'timestamp_weekday\\',rot=0,subplots=False,figsize=(10,5))\\n@@@ax.set_title(\"Graph of Total Tweets by Day\", fontsize=20);\\n@@@```\\n@@@\\n@@@\\n@@@![png](data_analyst_nanodegree_term_02_project_03_act_report_v2_0_files/data_analyst_nanodegree_term_02_project_03_act_report_v2_0_12_0.png)\\n@@@\\n@@@\\n@@@From the above graph it can be observed that the highest number of tweets were created on Monday. It is interesting to note that the number of tweets tapered down towards the weekend.  \\n@@@\\n@@@\\n@@@```python\\n@@@\\n@@@```\\n@@@\\n@@@# Question 3: What are some of the common words used in the top tweets?\\n@@@\\n@@@\\n@@@```python\\n@@@# extract the top tweets\\n@@@tmp=df_main.sort_values(by=[\\'favorite_count\\'],ascending=False)[[\\'text\\']].head(10)\\n@@@\\n@@@print(\\'<<Below are text corresponding to the top 10 tweets that received the most favorites count>> \\\\n\\')\\n@@@\\n@@@#view the top tweets\\n@@@for i in tmp[\\'text\\']:\\n@@@    print(i)\\n@@@```\\n@@@\\n@@@    <<Below are text corresponding to the top 10 tweets that received the most favorites count>> \\n@@@    \\n@@@    Here\\'s a doggo realizing you can stand in a pool. 13/10 enlightened af (vid by Tina Conrad) https://t.co/7wE9LTEXC4\\n@@@    Here\\'s a super supportive puppo participating in the Toronto  #WomensMarch today. 13/10 https://t.co/nTz3FtorBc\\n@@@    This is Jamesy. He gives a kiss to every other pupper he sees on his walk. 13/10 such passion, much tender https://t.co/wk7TfysWHr\\n@@@    This is Stephan. He just wants to help. 13/10 such a good boy https://t.co/DkBYaCAg2d\\n@@@    Here\\'s a doggo blowing bubbles. It\\'s downright legendary. 13/10 would watch on repeat forever (vid by Kent Duryee) https://t.co/YcXgHfp1EC\\n@@@    This is Duddles. He did an attempt. 13/10 someone help him (vid by Georgia Felici) https://t.co/UDT7ZkcTgY\\n@@@    This is Bo. He was a very good First Doggo. 14/10 would be an absolute honor to pet https://t.co/AdPKrI8BZ1\\n@@@    We only rate dogs. This is quite clearly a smol broken polar bear. We\\'d appreciate if you only send dogs. Thank you... 12/10 https://t.co/g2nSyGenG9\\n@@@    This is Zoey. She really likes the planet. Would hate to see willful ignorance and the denial of fairly elemental science destroy it. 13/10 https://t.co/T1xlgaPujm\\n@@@    \"Good afternoon class today we\\'re going to learn what makes a good boy so good\" 13/10 https://t.co/f1h2Fsalv9\\n@@@    \\n@@@\\n@@@\\n@@@```python\\n@@@print(\\'Word cloud of some of the common words in top 10 tweets that received the most favorites count\\' )\\n@@@show_wordcloud(tmp[\\'text\\'])\\n@@@```\\n@@@\\n@@@    Word cloud of some of the common words in top 10 tweets that received the most favorites count\\n@@@    \\n@@@\\n@@@\\n@@@![png](data_analyst_nanodegree_term_02_project_03_act_report_v2_0_files/data_analyst_nanodegree_term_02_project_03_act_report_v2_0_17_1.png)\\n@@@\\n@@@\\n@@@From the word cloud, it can be observed that the top 10 tweets contained some interesting text such as:  \\n@@@help, stand, kiss, participating, supportive, gives, wants, quite.\\n@@@\\n@@@\\n@@@```python\\n@@@\\n@@@```\\n'"
      ]
     },
     "execution_count": 12,
     "metadata": {},
     "output_type": "execute_result"
    }
   ],
   "source": [
    "content_joined"
   ]
  },
  {
   "cell_type": "code",
   "execution_count": null,
   "metadata": {},
   "outputs": [],
   "source": []
  },
  {
   "cell_type": "code",
   "execution_count": 13,
   "metadata": {},
   "outputs": [],
   "source": [
    "#backup for test purposes\n",
    "tmp=content_joined\n",
    "#content_joined=tmp\n"
   ]
  },
  {
   "cell_type": "code",
   "execution_count": 14,
   "metadata": {},
   "outputs": [],
   "source": [
    "#old image link\n",
    "#project_03_01_files/project_03_01_13_0.png\n",
    "\n",
    "#new image link\n",
    "#images/project_03_01_files/project_03_01_13_0.png\n",
    "\n",
    "#updated_image_link='images/'+subfolder_name+'/'+image_names[0]\n",
    "#content_joined.replace(images_folder_name+'/'+image_names[0],updated_image_link)\n",
    "\n",
    "\n",
    "#replace the image names with proper links+names\n",
    "for i in image_names:\n",
    "    #generate new links for md file\n",
    "    updated_image_link='images/'+subfolder_name+'/'+i\n",
    "    #replace the image name with proper image link\n",
    "    content_joined=content_joined.replace(images_folder_name+'/'+i,updated_image_link)"
   ]
  },
  {
   "cell_type": "code",
   "execution_count": 15,
   "metadata": {},
   "outputs": [
    {
     "data": {
      "text/plain": [
       "'<!â€“â€“ The codes in this cell will add a toggle button to show/hide jupyter codes in web browser  â€“â€“>\\n@@@<!â€“â€“ Source: https://stackoverflow.com/questions/27934885/how-to-hide-code-from-cells-in-ipython-notebook-visualized-with-nbviewer  â€“â€“>\\n@@@\\n@@@<script>\\n@@@  function code_toggle() {\\n@@@    if (code_shown){\\n@@@      $(\\'div.input\\').hide(\\'500\\');\\n@@@      $(\\'#toggleButton\\').val(\\'Show Code\\')\\n@@@    } else {\\n@@@      $(\\'div.input\\').show(\\'500\\');\\n@@@      $(\\'#toggleButton\\').val(\\'Hide Code\\')\\n@@@    }\\n@@@    code_shown = !code_shown\\n@@@  }\\n@@@\\n@@@  $( document ).ready(function(){\\n@@@    code_shown=false;\\n@@@    $(\\'div.input\\').hide()\\n@@@  });\\n@@@</script>\\n@@@<form action=\"javascript:code_toggle()\">\\n@@@  <input type=\"submit\" id=\"toggleButton\" value=\"Show Code\">\\n@@@</form>\\n@@@# Act Report\\n@@@\\n@@@Explored the cleaned data to gain insights on the following questions: \\n@@@\\n@@@1. Is the tweet that received the most favorites count also the tweet that was retweeted most?\\n@@@2. What day of the week were most of the tweets created? \\n@@@3. What are some of the common words used in the top tweets?\\n@@@\\n@@@# Reference\\n@@@\\n@@@https://pandas.pydata.org/pandas-docs/version/0.23/generated/pandas.DataFrame.plot.bar.html  \\n@@@https://stackoverflow.com/questions/16645799/how-to-create-a-word-cloud-from-a-corpus-in-python  \\n@@@https://stackoverflow.com/questions/27934885/how-to-hide-code-from-cells-in-ipython-notebook-visualized-with-nbviewer  \\n@@@\\n@@@\\n@@@```python\\n@@@# Import libraries\\n@@@import pandas as pd\\n@@@import numpy as np\\n@@@import matplotlib as mpl\\n@@@import matplotlib.pyplot as plt\\n@@@import seaborn as sns\\n@@@from wordcloud import WordCloud, STOPWORDS \\n@@@sns.set(style=\"whitegrid\", color_codes=True)\\n@@@```\\n@@@\\n@@@\\n@@@```python\\n@@@# Source: https://stackoverflow.com/questions/16645799/how-to-create-a-word-cloud-from-a-corpus-in-python\\n@@@stopwords = set(STOPWORDS)  # set the stop words\\n@@@\\n@@@def show_wordcloud(data, title = None):\\n@@@    wordcloud = WordCloud(\\n@@@        background_color=\\'white\\',\\n@@@        stopwords=stopwords,\\n@@@        max_words=200,\\n@@@        max_font_size=40, \\n@@@        scale=3,\\n@@@        random_state=1 # chosen at random by flipping a coin; it was heads\\n@@@    ).generate(str(data))\\n@@@\\n@@@    fig = plt.figure(1, figsize=(12, 12))\\n@@@    plt.axis(\\'off\\')\\n@@@    if title: \\n@@@        fig.suptitle(title, fontsize=20)\\n@@@        fig.subplots_adjust(top=2.3)\\n@@@\\n@@@    plt.imshow(wordcloud)\\n@@@    plt.show()\\n@@@```\\n@@@\\n@@@\\n@@@```python\\n@@@# read the main tweet dataset csv\\n@@@df_main=pd.read_csv(\\'main_twitter_dataset.csv\\')\\n@@@```\\n@@@\\n@@@# Question 1: Is the tweet that received the most favorites count also the tweet that was retweeted most?\\n@@@\\n@@@\\n@@@```python\\n@@@tmp=df_main.sort_values(by=[\\'favorite_count\\',\\'retweet_count\\'],\\n@@@                        ascending=False)[[\\'tweet_id\\',\\'favorite_count\\',\\'retweet_count\\']].head(10)\\n@@@\\n@@@print(\\'Table of Tweet IDs with the top 10 favorites count and retweets count\\')\\n@@@\\n@@@tmp\\n@@@```\\n@@@\\n@@@    Table of Tweet IDs with the top 10 favorites count and retweets count\\n@@@    \\n@@@\\n@@@\\n@@@\\n@@@\\n@@@<div>\\n@@@<style scoped>\\n@@@    .dataframe tbody tr th:only-of-type {\\n@@@        vertical-align: middle;\\n@@@    }\\n@@@\\n@@@    .dataframe tbody tr th {\\n@@@        vertical-align: top;\\n@@@    }\\n@@@\\n@@@    .dataframe thead th {\\n@@@        text-align: right;\\n@@@    }\\n@@@</style>\\n@@@<table border=\"1\" class=\"dataframe\">\\n@@@  <thead>\\n@@@    <tr style=\"text-align: right;\">\\n@@@      <th></th>\\n@@@      <th>tweet_id</th>\\n@@@      <th>favorite_count</th>\\n@@@      <th>retweet_count</th>\\n@@@    </tr>\\n@@@  </thead>\\n@@@  <tbody>\\n@@@    <tr>\\n@@@      <th>872</th>\\n@@@      <td>744234799360020481</td>\\n@@@      <td>162143.0</td>\\n@@@      <td>84152.0</td>\\n@@@    </tr>\\n@@@    <tr>\\n@@@      <th>350</th>\\n@@@      <td>822872901745569793</td>\\n@@@      <td>142138.0</td>\\n@@@      <td>48561.0</td>\\n@@@    </tr>\\n@@@    <tr>\\n@@@      <th>119</th>\\n@@@      <td>866450705531457537</td>\\n@@@      <td>123352.0</td>\\n@@@      <td>36023.0</td>\\n@@@    </tr>\\n@@@    <tr>\\n@@@      <th>449</th>\\n@@@      <td>807106840509214720</td>\\n@@@      <td>121999.0</td>\\n@@@      <td>60430.0</td>\\n@@@    </tr>\\n@@@    <tr>\\n@@@      <th>912</th>\\n@@@      <td>739238157791694849</td>\\n@@@      <td>121443.0</td>\\n@@@      <td>62781.0</td>\\n@@@    </tr>\\n@@@    <tr>\\n@@@      <th>63</th>\\n@@@      <td>879415818425184262</td>\\n@@@      <td>105136.0</td>\\n@@@      <td>44023.0</td>\\n@@@    </tr>\\n@@@    <tr>\\n@@@      <th>376</th>\\n@@@      <td>819004803107983360</td>\\n@@@      <td>92986.0</td>\\n@@@      <td>40642.0</td>\\n@@@    </tr>\\n@@@    <tr>\\n@@@      <th>147</th>\\n@@@      <td>859196978902773760</td>\\n@@@      <td>91694.0</td>\\n@@@      <td>31340.0</td>\\n@@@    </tr>\\n@@@    <tr>\\n@@@      <th>103</th>\\n@@@      <td>870374049280663552</td>\\n@@@      <td>82744.0</td>\\n@@@      <td>26514.0</td>\\n@@@    </tr>\\n@@@    <tr>\\n@@@      <th>451</th>\\n@@@      <td>806629075125202948</td>\\n@@@      <td>81404.0</td>\\n@@@      <td>38968.0</td>\\n@@@    </tr>\\n@@@  </tbody>\\n@@@</table>\\n@@@</div>\\n@@@\\n@@@\\n@@@\\n@@@\\n@@@```python\\n@@@ax=tmp.plot.bar(x=\\'tweet_id\\',rot=0,subplots=False,figsize=(10,5))\\n@@@ax.set_xticklabels(ax.get_xticklabels(),rotation=90,fontsize=15)\\n@@@ax.set_title(\"Graph of Top Tweets Favorite\\'s Count and Retweet Count\", fontsize=20);\\n@@@```\\n@@@\\n@@@\\n@@@![png](images/data_analyst_nanodegree_term_02_project_03_act_report_v2_0/data_analyst_nanodegree_term_02_project_03_act_report_v2_0_8_0.png)\\n@@@\\n@@@\\n@@@From the graph above it can be seen that the tweet that received the most favorite\\'s count was not the tweet that was retweeted \\n@@@most.\\n@@@\\n@@@Tweet corresponding to the tweet id 822872901745569793 received the highest favorites count while tweet corresponding to tweet id 744234799360020481 received the highest retweet count. \\n@@@\\n@@@It can also be observed that the top 10 tweets:\\n@@@1. Favorites count was more than 80,000\\n@@@2. Retweets count was more than 20,000\\n@@@\\n@@@# Question 2: What day of the week were most of the tweets created? \\n@@@\\n@@@\\n@@@```python\\n@@@tmp=df_main.groupby(\\'timestamp_weekday\\').size().reset_index(name = \"Number of Tweets\")\\n@@@\\n@@@print(\\'Table of number of Tweets by weekday\\')\\n@@@\\n@@@tmp\\n@@@```\\n@@@\\n@@@    Table of number of Tweets by weekday\\n@@@    \\n@@@\\n@@@\\n@@@\\n@@@\\n@@@<div>\\n@@@<style scoped>\\n@@@    .dataframe tbody tr th:only-of-type {\\n@@@        vertical-align: middle;\\n@@@    }\\n@@@\\n@@@    .dataframe tbody tr th {\\n@@@        vertical-align: top;\\n@@@    }\\n@@@\\n@@@    .dataframe thead th {\\n@@@        text-align: right;\\n@@@    }\\n@@@</style>\\n@@@<table border=\"1\" class=\"dataframe\">\\n@@@  <thead>\\n@@@    <tr style=\"text-align: right;\">\\n@@@      <th></th>\\n@@@      <th>timestamp_weekday</th>\\n@@@      <th>Number of Tweets</th>\\n@@@    </tr>\\n@@@  </thead>\\n@@@  <tbody>\\n@@@    <tr>\\n@@@      <th>0</th>\\n@@@      <td>0</td>\\n@@@      <td>359</td>\\n@@@    </tr>\\n@@@    <tr>\\n@@@      <th>1</th>\\n@@@      <td>1</td>\\n@@@      <td>328</td>\\n@@@    </tr>\\n@@@    <tr>\\n@@@      <th>2</th>\\n@@@      <td>2</td>\\n@@@      <td>322</td>\\n@@@    </tr>\\n@@@    <tr>\\n@@@      <th>3</th>\\n@@@      <td>3</td>\\n@@@      <td>307</td>\\n@@@    </tr>\\n@@@    <tr>\\n@@@      <th>4</th>\\n@@@      <td>4</td>\\n@@@      <td>307</td>\\n@@@    </tr>\\n@@@    <tr>\\n@@@      <th>5</th>\\n@@@      <td>5</td>\\n@@@      <td>287</td>\\n@@@    </tr>\\n@@@    <tr>\\n@@@      <th>6</th>\\n@@@      <td>6</td>\\n@@@      <td>277</td>\\n@@@    </tr>\\n@@@  </tbody>\\n@@@</table>\\n@@@</div>\\n@@@\\n@@@\\n@@@\\n@@@\\n@@@```python\\n@@@# create a dictionary for mapping\\n@@@di_day = {\\'0\\':\\'Monday\\',\\'1\\':\\'Tuesday\\',\\'2\\':\\'Wednesday\\',\\'3\\':\\'Thursday\\',\\'4\\':\\'Friday\\',\\'5\\':\\'Saturday\\',\\'6\\':\\'Sunday\\'}\\n@@@\\n@@@# map the dictionary \\n@@@tmp[\\'timestamp_weekday\\']=tmp[\\'timestamp_weekday\\'].astype(str).replace(di_day)\\n@@@\\n@@@# plot the barplot\\n@@@ax=tmp.plot.bar(x=\\'timestamp_weekday\\',rot=0,subplots=False,figsize=(10,5))\\n@@@ax.set_title(\"Graph of Total Tweets by Day\", fontsize=20);\\n@@@```\\n@@@\\n@@@\\n@@@![png](images/data_analyst_nanodegree_term_02_project_03_act_report_v2_0/data_analyst_nanodegree_term_02_project_03_act_report_v2_0_12_0.png)\\n@@@\\n@@@\\n@@@From the above graph it can be observed that the highest number of tweets were created on Monday. It is interesting to note that the number of tweets tapered down towards the weekend.  \\n@@@\\n@@@\\n@@@```python\\n@@@\\n@@@```\\n@@@\\n@@@# Question 3: What are some of the common words used in the top tweets?\\n@@@\\n@@@\\n@@@```python\\n@@@# extract the top tweets\\n@@@tmp=df_main.sort_values(by=[\\'favorite_count\\'],ascending=False)[[\\'text\\']].head(10)\\n@@@\\n@@@print(\\'<<Below are text corresponding to the top 10 tweets that received the most favorites count>> \\\\n\\')\\n@@@\\n@@@#view the top tweets\\n@@@for i in tmp[\\'text\\']:\\n@@@    print(i)\\n@@@```\\n@@@\\n@@@    <<Below are text corresponding to the top 10 tweets that received the most favorites count>> \\n@@@    \\n@@@    Here\\'s a doggo realizing you can stand in a pool. 13/10 enlightened af (vid by Tina Conrad) https://t.co/7wE9LTEXC4\\n@@@    Here\\'s a super supportive puppo participating in the Toronto  #WomensMarch today. 13/10 https://t.co/nTz3FtorBc\\n@@@    This is Jamesy. He gives a kiss to every other pupper he sees on his walk. 13/10 such passion, much tender https://t.co/wk7TfysWHr\\n@@@    This is Stephan. He just wants to help. 13/10 such a good boy https://t.co/DkBYaCAg2d\\n@@@    Here\\'s a doggo blowing bubbles. It\\'s downright legendary. 13/10 would watch on repeat forever (vid by Kent Duryee) https://t.co/YcXgHfp1EC\\n@@@    This is Duddles. He did an attempt. 13/10 someone help him (vid by Georgia Felici) https://t.co/UDT7ZkcTgY\\n@@@    This is Bo. He was a very good First Doggo. 14/10 would be an absolute honor to pet https://t.co/AdPKrI8BZ1\\n@@@    We only rate dogs. This is quite clearly a smol broken polar bear. We\\'d appreciate if you only send dogs. Thank you... 12/10 https://t.co/g2nSyGenG9\\n@@@    This is Zoey. She really likes the planet. Would hate to see willful ignorance and the denial of fairly elemental science destroy it. 13/10 https://t.co/T1xlgaPujm\\n@@@    \"Good afternoon class today we\\'re going to learn what makes a good boy so good\" 13/10 https://t.co/f1h2Fsalv9\\n@@@    \\n@@@\\n@@@\\n@@@```python\\n@@@print(\\'Word cloud of some of the common words in top 10 tweets that received the most favorites count\\' )\\n@@@show_wordcloud(tmp[\\'text\\'])\\n@@@```\\n@@@\\n@@@    Word cloud of some of the common words in top 10 tweets that received the most favorites count\\n@@@    \\n@@@\\n@@@\\n@@@![png](images/data_analyst_nanodegree_term_02_project_03_act_report_v2_0/data_analyst_nanodegree_term_02_project_03_act_report_v2_0_17_1.png)\\n@@@\\n@@@\\n@@@From the word cloud, it can be observed that the top 10 tweets contained some interesting text such as:  \\n@@@help, stand, kiss, participating, supportive, gives, wants, quite.\\n@@@\\n@@@\\n@@@```python\\n@@@\\n@@@```\\n'"
      ]
     },
     "execution_count": 15,
     "metadata": {},
     "output_type": "execute_result"
    }
   ],
   "source": [
    "content_joined"
   ]
  },
  {
   "cell_type": "code",
   "execution_count": 16,
   "metadata": {},
   "outputs": [],
   "source": [
    "#use this below to split at @@@ and then save it to a md file\n",
    "lines=content_joined.split('@@@')"
   ]
  },
  {
   "cell_type": "code",
   "execution_count": 17,
   "metadata": {},
   "outputs": [],
   "source": [
    "### use this to write the files back\n",
    "with open(markdown_name, 'w') as filehandle:  \n",
    "    filehandle.writelines(\"%s\" % place for place in lines)\n",
    "    #code below will add a line break\n",
    "    #filehandle.writelines(\"%s\\n\" % place for place in places_list)"
   ]
  },
  {
   "cell_type": "code",
   "execution_count": 18,
   "metadata": {},
   "outputs": [],
   "source": [
    "#copy image files to the images/movie_data_eda subfoler\n",
    "\n",
    "#define source and destination\n",
    "source=os.listdir(images_folder_name)\n",
    "destination='git_page/images/'+subfolder_name\n",
    "\n",
    "\n",
    "#works\n",
    "for files in source:\n",
    "    if files.endswith(\".png\"):\n",
    "        shutil.copy(images_folder_name+'/'+files,destination)\n",
    "        #print(files)"
   ]
  },
  {
   "cell_type": "code",
   "execution_count": 19,
   "metadata": {},
   "outputs": [
    {
     "data": {
      "text/plain": [
       "'git_page/data_analyst_nanodegree_term_02_project_03_act_report_v2_0.md'"
      ]
     },
     "execution_count": 19,
     "metadata": {},
     "output_type": "execute_result"
    }
   ],
   "source": [
    "#copy md file to git_page folder\n",
    "#source='markdown/project_03_01.md'\n",
    "#destination='git_page/'\n",
    "#shutil.copy(source, destination)\n",
    "\n",
    "source=markdown_name\n",
    "destination='git_page/'\n",
    "shutil.copy(source, destination)"
   ]
  },
  {
   "cell_type": "code",
   "execution_count": 20,
   "metadata": {},
   "outputs": [],
   "source": [
    "#delete the images folder that is OUTSIDE the git_page folder\n",
    "shutil.rmtree(images_folder_name) #remove folder\n",
    "#delete the markdonw file that is OUTSIDE the git_page folder\n",
    "os.remove(markdown_name) #remove file"
   ]
  },
  {
   "cell_type": "code",
   "execution_count": null,
   "metadata": {},
   "outputs": [],
   "source": []
  },
  {
   "cell_type": "code",
   "execution_count": 21,
   "metadata": {},
   "outputs": [],
   "source": [
    "###################################################################"
   ]
  },
  {
   "cell_type": "code",
   "execution_count": null,
   "metadata": {},
   "outputs": [],
   "source": []
  }
 ],
 "metadata": {
  "kernelspec": {
   "display_name": "Python 3",
   "language": "python",
   "name": "python3"
  },
  "language_info": {
   "codemirror_mode": {
    "name": "ipython",
    "version": 3
   },
   "file_extension": ".py",
   "mimetype": "text/x-python",
   "name": "python",
   "nbconvert_exporter": "python",
   "pygments_lexer": "ipython3",
   "version": "3.6.4"
  }
 },
 "nbformat": 4,
 "nbformat_minor": 2
}
